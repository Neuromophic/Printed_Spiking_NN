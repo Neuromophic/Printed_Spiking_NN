{
 "cells": [
  {
   "cell_type": "code",
   "execution_count": 13,
   "id": "ef292e84-6753-4a3a-afbc-838b88099bb1",
   "metadata": {
    "tags": []
   },
   "outputs": [],
   "source": [
    "with open(f'run_baseline_pNN.sh', 'w') as f:\n",
    "    for ds in range(13):\n",
    "        line = f'sbatch exp_baseline_pNN.py --DATASET {ds} --task normal --projectname Baseline\\n'\n",
    "        f.write(line)\n",
    "    for ds in range(13):\n",
    "        line = f'sbatch exp_baseline_pNN.py --DATASET {ds} --task normal --lnc True --projectname Baseline\\n'\n",
    "        f.write(line)\n",
    "    for ds in range(13):\n",
    "        line = f'sbatch exp_baseline_pNN.py --DATASET {ds} --task normal --lnc True --ilnc True --projectname Baseline\\n'\n",
    "        f.write(line)"
   ]
  },
  {
   "cell_type": "code",
   "execution_count": 14,
   "id": "1f0f5288",
   "metadata": {
    "tags": []
   },
   "outputs": [],
   "source": [
    "with open(f'run_baseline_LSTM.sh', 'w') as f:\n",
    "    for ds in range(13):\n",
    "        line = f'sbatch exp_baseline_LSTM.py --DATASET {ds} --task temporized --projectname Baseline\\n'\n",
    "        f.write(line)\n",
    "    for ds in range(13):\n",
    "        line = f'sbatch exp_baseline_LSTM.py --DATASET {ds} --task temporized --lnc True --projectname Baseline\\n'\n",
    "        f.write(line)\n",
    "    for ds in range(13):\n",
    "        line = f'sbatch exp_baseline_LSTM.py --DATASET {ds} --task temporized --lnc True --ilnc True --projectname Baseline\\n'\n",
    "        f.write(line)"
   ]
  },
  {
   "cell_type": "code",
   "execution_count": 15,
   "id": "c56f5190",
   "metadata": {
    "tags": []
   },
   "outputs": [],
   "source": [
    "with open(f'run_baseline_MLP.sh', 'w') as f:\n",
    "    for ds in range(13):\n",
    "        line = f'sbatch exp_baseline_MLP.py --DATASET {ds} --task normal --projectname Baseline\\n'\n",
    "        f.write(line)\n",
    "    for ds in range(13):\n",
    "        line = f'sbatch exp_baseline_MLP.py --DATASET {ds} --task normal --lnc True --projectname Baseline\\n'\n",
    "        f.write(line)\n",
    "    for ds in range(13):\n",
    "        line = f'sbatch exp_baseline_MLP.py --DATASET {ds} --task normal --lnc True --ilnc True --projectname Baseline\\n'\n",
    "        f.write(line)"
   ]
  },
  {
   "cell_type": "code",
   "execution_count": 16,
   "id": "24867855",
   "metadata": {
    "tags": []
   },
   "outputs": [],
   "source": [
    "with open(f'run_baseline_SNN.sh', 'w') as f:\n",
    "    for ds in range(13):\n",
    "        line = f'sbatch exp_baseline_SNN.py --DATASET {ds} --task temporized --metric acc_snn --projectname Baseline\\n'\n",
    "        f.write(line)\n",
    "    for ds in range(13):\n",
    "        line = f'sbatch exp_baseline_SNN.py --DATASET {ds} --task temporized --lnc True --metric acc_snn --projectname Baseline\\n'\n",
    "        f.write(line)\n",
    "    for ds in range(13):\n",
    "        line = f'sbatch exp_baseline_SNN.py --DATASET {ds} --task temporized --lnc True --ilnc True --metric acc_snn --projectname Baseline\\n'\n",
    "        f.write(line)"
   ]
  },
  {
   "cell_type": "code",
   "execution_count": 1,
   "id": "0f7e2fc2-917b-4ba8-809e-8b3e2cafc93d",
   "metadata": {},
   "outputs": [],
   "source": [
    "with open('evaluation_power.sh', 'w') as f:\n",
    "    for ds in range(13):\n",
    "        line = f'sbatch evaluation.py --DATASET {ds}  --DEVICE cpu\\n'\n",
    "        f.write(line)"
   ]
  },
  {
   "cell_type": "code",
   "execution_count": null,
   "id": "e188da6b-5565-4214-bfef-3043bc85b4b7",
   "metadata": {},
   "outputs": [],
   "source": []
  }
 ],
 "metadata": {
  "kernelspec": {
   "display_name": "pNN",
   "language": "python",
   "name": "pnn"
  },
  "language_info": {
   "codemirror_mode": {
    "name": "ipython",
    "version": 3
   },
   "file_extension": ".py",
   "mimetype": "text/x-python",
   "name": "python",
   "nbconvert_exporter": "python",
   "pygments_lexer": "ipython3",
   "version": "3.9.16"
  }
 },
 "nbformat": 4,
 "nbformat_minor": 5
}
