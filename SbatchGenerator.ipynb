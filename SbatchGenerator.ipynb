{
 "cells": [
  {
   "cell_type": "code",
   "execution_count": 2,
   "id": "ef292e84-6753-4a3a-afbc-838b88099bb1",
   "metadata": {
    "tags": []
   },
   "outputs": [],
   "source": [
    "with open(f'run_pNN.sh', 'w') as f:\n",
    "    for ds in range(13):\n",
    "        line = f'sbatch exp_pNN.py --DATASET {ds} --task normal --metric acc --projectname pNN\\n'\n",
    "        f.write(line)"
   ]
  },
  {
   "cell_type": "code",
   "execution_count": 3,
   "id": "c63aa40a-173a-4e4a-a22c-540a2ef8bb62",
   "metadata": {
    "tags": []
   },
   "outputs": [],
   "source": [
    "with open(f'run_SNN.sh', 'w') as f:\n",
    "    for ds in range(13):\n",
    "        line = f'sbatch exp_SNN.py --DATASET {ds} --metric nominal_snn --projectname SNN\\n'\n",
    "        f.write(line)"
   ]
  },
  {
   "cell_type": "code",
   "execution_count": 7,
   "id": "e188da6b-5565-4214-bfef-3043bc85b4b7",
   "metadata": {},
   "outputs": [],
   "source": [
    "with open(f'run_pSNN.sh', 'w') as f:\n",
    "    for ds in range(13):\n",
    "        for seed in range(10):\n",
    "            line = f'sbatch exp_pSNN.py --DATASET {ds:02d} --SEED {seed} --DEVICE cpu --projectname pSNN\\n'\n",
    "            f.write(line)"
   ]
  },
  {
   "cell_type": "code",
   "execution_count": 3,
   "id": "c39a05c8-d0c6-4d46-93eb-48ecfc59a638",
   "metadata": {
    "tags": []
   },
   "outputs": [],
   "source": [
    "with open('modeling_SG.sh', 'w') as f:\n",
    "    for seed in range(10):\n",
    "        for model_idx in range(5):\n",
    "            line = f'sbatch 3_modeling.py {seed} {model_idx}\\n'\n",
    "            f.write(line)"
   ]
  },
  {
   "cell_type": "code",
   "execution_count": 4,
   "id": "2cacca61-19d3-4303-b833-66c8aa0f3c74",
   "metadata": {
    "tags": []
   },
   "outputs": [],
   "source": [
    "with open('evaluation_SG.sh', 'w') as f:\n",
    "    for seed in range(10):\n",
    "        for model_idx in range(5):\n",
    "            line = f'sbatch 4_evaluation.py {seed} {model_idx}\\n'\n",
    "            f.write(line)"
   ]
  },
  {
   "cell_type": "code",
   "execution_count": null,
   "id": "bfd9960d-f31d-43c4-b953-9c48082b571c",
   "metadata": {},
   "outputs": [],
   "source": [
    "with open('evaluation_power.sh', 'w') as f:\n",
    "    for ds in range(13):\n",
    "        line = f'sbatch evaluation.py --DATASET {ds}  --DEVICE cpu\\n'\n",
    "        f.write(line)"
   ]
  }
 ],
 "metadata": {
  "kernelspec": {
   "display_name": "pNN",
   "language": "python",
   "name": "pnn"
  },
  "language_info": {
   "codemirror_mode": {
    "name": "ipython",
    "version": 3
   },
   "file_extension": ".py",
   "mimetype": "text/x-python",
   "name": "python",
   "nbconvert_exporter": "python",
   "pygments_lexer": "ipython3",
   "version": "3.9.16"
  }
 },
 "nbformat": 4,
 "nbformat_minor": 5
}
