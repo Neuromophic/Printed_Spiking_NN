{
 "cells": [
  {
   "cell_type": "code",
   "execution_count": 2,
   "id": "ef292e84-6753-4a3a-afbc-838b88099bb1",
   "metadata": {},
   "outputs": [],
   "source": [
    "import numpy as np\n",
    "balance = np.round(np.linspace(0,1,51),2)\n",
    "\n",
    "with open(f'experiment_power.sh', 'w') as f:\n",
    "    for ds in range(13):\n",
    "        for bs in balance:\n",
    "            line = f'sbatch experiment.py --DATASET {ds}  --powerestimator power  --powerbalance {bs}  --projectname Power-Aware-Training\\n'\n",
    "            f.write(line)"
   ]
  },
  {
   "cell_type": "code",
   "execution_count": 1,
   "id": "0f7e2fc2-917b-4ba8-809e-8b3e2cafc93d",
   "metadata": {},
   "outputs": [],
   "source": [
    "with open('evaluation_power.sh', 'w') as f:\n",
    "    for ds in range(13):\n",
    "        line = f'sbatch evaluation.py --DATASET {ds}  --DEVICE cpu\\n'\n",
    "        f.write(line)"
   ]
  },
  {
   "cell_type": "code",
   "execution_count": null,
   "id": "e188da6b-5565-4214-bfef-3043bc85b4b7",
   "metadata": {},
   "outputs": [],
   "source": []
  }
 ],
 "metadata": {
  "kernelspec": {
   "display_name": "pNN",
   "language": "python",
   "name": "pnn"
  },
  "language_info": {
   "codemirror_mode": {
    "name": "ipython",
    "version": 3
   },
   "file_extension": ".py",
   "mimetype": "text/x-python",
   "name": "python",
   "nbconvert_exporter": "python",
   "pygments_lexer": "ipython3",
   "version": "3.9.16"
  }
 },
 "nbformat": 4,
 "nbformat_minor": 5
}
