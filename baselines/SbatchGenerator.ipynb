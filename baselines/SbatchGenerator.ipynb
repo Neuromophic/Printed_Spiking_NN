{
 "cells": [
  {
   "cell_type": "code",
   "execution_count": 3,
   "id": "ef292e84-6753-4a3a-afbc-838b88099bb1",
   "metadata": {},
   "outputs": [],
   "source": [
    "import numpy as np\n",
    "\n",
    "with open(f'baseline_CNN.sh', 'w') as f:\n",
    "    for seed in range(10):\n",
    "        line = f'sbatch baseline_CNN.py {seed}\\n'\n",
    "        f.write(line)"
   ]
  },
  {
   "cell_type": "code",
   "execution_count": 4,
   "id": "7af63bd4-d4b5-423b-afcb-69831110c1cb",
   "metadata": {
    "tags": []
   },
   "outputs": [],
   "source": [
    "with open(f'baseline_LSTM.sh', 'w') as f:\n",
    "    for seed in range(10):\n",
    "        line = f'sbatch baseline_LSTM.py {seed}\\n'\n",
    "        f.write(line)"
   ]
  },
  {
   "cell_type": "code",
   "execution_count": 5,
   "id": "ca933d78-4351-4e3d-8240-df288c2985d3",
   "metadata": {
    "tags": []
   },
   "outputs": [],
   "source": [
    "with open(f'baseline_MLP.sh', 'w') as f:\n",
    "    for seed in range(10):\n",
    "        line = f'sbatch baseline_MLP.py {seed}\\n'\n",
    "        f.write(line)"
   ]
  },
  {
   "cell_type": "code",
   "execution_count": 2,
   "id": "312152ef-fea8-4da7-9fc5-9c19087e1ac3",
   "metadata": {},
   "outputs": [],
   "source": [
    "with open(f'baseline_SNN1.sh', 'w') as f:\n",
    "    for seed in range(10):\n",
    "        line = f'sbatch baseline_SNN1.py {seed}\\n'\n",
    "        f.write(line)"
   ]
  },
  {
   "cell_type": "code",
   "execution_count": 3,
   "id": "5cc10edf-992d-4811-a1db-e6d6a27ac99f",
   "metadata": {
    "tags": []
   },
   "outputs": [],
   "source": [
    "with open(f'baseline_SNN2.sh', 'w') as f:\n",
    "    for seed in range(10):\n",
    "        line = f'sbatch baseline_SNN2.py {seed}\\n'\n",
    "        f.write(line)"
   ]
  },
  {
   "cell_type": "code",
   "execution_count": 4,
   "id": "ef654a9a-de60-4bcb-8686-2b8cd4d563e9",
   "metadata": {
    "tags": []
   },
   "outputs": [],
   "source": [
    "with open(f'baseline_SNN3.sh', 'w') as f:\n",
    "    for seed in range(10):\n",
    "        line = f'sbatch baseline_SNN3.py {seed}\\n'\n",
    "        f.write(line)"
   ]
  },
  {
   "cell_type": "code",
   "execution_count": null,
   "id": "7dd2d6f2-876e-442d-aa18-502e92534451",
   "metadata": {},
   "outputs": [],
   "source": []
  }
 ],
 "metadata": {
  "kernelspec": {
   "display_name": "pNN",
   "language": "python",
   "name": "pnn"
  },
  "language_info": {
   "codemirror_mode": {
    "name": "ipython",
    "version": 3
   },
   "file_extension": ".py",
   "mimetype": "text/x-python",
   "name": "python",
   "nbconvert_exporter": "python",
   "pygments_lexer": "ipython3",
   "version": "3.9.16"
  }
 },
 "nbformat": 4,
 "nbformat_minor": 5
}
