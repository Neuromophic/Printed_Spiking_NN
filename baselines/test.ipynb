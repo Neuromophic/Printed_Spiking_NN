{
 "cells": [
  {
   "cell_type": "code",
   "execution_count": 7,
   "metadata": {
    "tags": []
   },
   "outputs": [],
   "source": [
    "#!/usr/bin/env python\n",
    "#SBATCH --job-name=SNNBase\n",
    "#SBATCH --error=%x.%j.err\n",
    "#SBATCH --mail-user=hzhao@teco.edu\n",
    "#SBATCH --export=ALL\n",
    "#SBATCH --time=48:00:00\n",
    "#SBATCH --partition=sdil\n",
    "#SBATCH --gres=gpu:1\n",
    "\n",
    "import torch\n",
    "import os\n",
    "from pprint import pprint\n",
    "import math\n",
    "import sys\n",
    "from pathlib import Path\n",
    "sys.path.append(os.getcwd())\n",
    "sys.path.append(str(Path(os.getcwd()).parent))\n",
    "import training as T\n",
    "import snntorch as snn\n",
    "import matplotlib.pyplot as plt"
   ]
  },
  {
   "cell_type": "code",
   "execution_count": 8,
   "metadata": {
    "tags": []
   },
   "outputs": [],
   "source": [
    "seed = 0\n",
    "ds_idx = 0"
   ]
  },
  {
   "cell_type": "code",
   "execution_count": 9,
   "metadata": {
    "tags": []
   },
   "outputs": [
    {
     "name": "stdout",
     "output_type": "stream",
     "text": [
      "dataset: ArrowHead, N_train: 126, N_valid: 42, N_test: 43, N_class: 3, N_feature: 251, N_channel: 1, N_length: 251\n"
     ]
    }
   ],
   "source": [
    "datasets = os.listdir('../ts_datasets/')\n",
    "datasets = [dataset for dataset in datasets if dataset.endswith('.tsds')]\n",
    "datasets.sort()\n",
    "\n",
    "dataset = datasets[ds_idx]\n",
    "package = torch.load(f'../ts_datasets/{dataset}')\n",
    "\n",
    "name = package['name']\n",
    "\n",
    "N_train = package['N_train']\n",
    "N_valid = package['N_valid']\n",
    "N_test = package['N_test']\n",
    "\n",
    "N_class = package['N_class']\n",
    "\n",
    "N_channel = package['N_channel']\n",
    "N_length = package['N_length']\n",
    "\n",
    "N_feature = N_channel * N_length\n",
    "\n",
    "print(f'dataset: {name}, N_train: {N_train}, N_valid: {N_valid}, N_test: {N_test}, N_class: {N_class}, N_feature: {N_feature}, N_channel: {N_channel}, N_length: {N_length}')\n",
    "\n",
    "X_train = package['X_train']\n",
    "X_valid = package['X_valid']\n",
    "X_test = package['X_test']\n",
    "\n",
    "y_train = package['Y_train']\n",
    "y_valid = package['Y_valid']\n",
    "y_test = package['Y_test']"
   ]
  },
  {
   "cell_type": "code",
   "execution_count": 18,
   "metadata": {
    "tags": []
   },
   "outputs": [],
   "source": [
    "# Define Network\n",
    "class SNN(torch.nn.Module):\n",
    "    def __init__(self, num_inputs, num_hidden, num_outputs):\n",
    "        super().__init__()\n",
    "\n",
    "        # initialize layers\n",
    "        self.snnlayer1 = torch.nn.ModuleList()\n",
    "        for i in range(num_inputs):\n",
    "            self.snnlayer1.append(snn.Leaky(beta=torch.rand([]), learn_beta=True,\n",
    "                                            threshold=torch.rand([]), learn_threshold=True))\n",
    "        self.fc1 = torch.nn.Linear(num_inputs, num_hidden)\n",
    "        self.snnlayer2 = torch.nn.ModuleList()\n",
    "        for i in range(n_hidden):\n",
    "            self.snnlayer1.append(snn.Leaky(beta=torch.rand([]), learn_beta=True,\n",
    "                                            threshold=torch.rand([]), learn_threshold=True))\n",
    "        self.fc2 = torch.nn.Linear(num_hidden, num_outputs)\n",
    "        self.snnlayer2 = torch.nn.ModuleList()\n",
    "        for i in range(num_outputs):\n",
    "            self.snnlayer1.append(snn.Leaky(beta=torch.rand([]), learn_beta=True,\n",
    "                                            threshold=torch.rand([]), learn_threshold=True))\n",
    "        \n",
    "        \n",
    "    \n",
    "    def forward(self, x):\n",
    "        num_steps = x.shape[2]\n",
    "        \n",
    "        mem1 = self.lif1.init_leaky()\n",
    "        mem2 = self.lif2.init_leaky()\n",
    "        \n",
    "        spk2_rec = []  # Record the output trace of spikes\n",
    "        mem2_rec = []  # Record the output trace of membrane potential\n",
    "        \n",
    "        for step in range(num_steps):\n",
    "            \n",
    "            cur1 = self.fc1(x[:,:,step])\n",
    "            spk1, mem1 = self.lif1(cur1, mem1)\n",
    "            cur2 = self.fc2(spk1)\n",
    "            spk2, mem2 = self.lif2(cur2, mem2)\n",
    "\n",
    "            spk2_rec.append(spk2)\n",
    "            mem2_rec.append(mem2)\n",
    "            \n",
    "        return torch.stack(spk2_rec), torch.stack(mem2_rec)"
   ]
  },
  {
   "cell_type": "code",
   "execution_count": 19,
   "metadata": {
    "tags": []
   },
   "outputs": [],
   "source": [
    "net = SNN(N_channel, 3, N_class)\n",
    "\n",
    "output, mem_rec = net(X_train)"
   ]
  },
  {
   "cell_type": "code",
   "execution_count": 21,
   "metadata": {
    "tags": []
   },
   "outputs": [
    {
     "data": {
      "text/plain": [
       "torch.Size([251, 126, 3])"
      ]
     },
     "execution_count": 21,
     "metadata": {},
     "output_type": "execute_result"
    }
   ],
   "source": [
    "output.shape"
   ]
  },
  {
   "cell_type": "code",
   "execution_count": 30,
   "metadata": {
    "tags": []
   },
   "outputs": [],
   "source": [
    "class Loss(torch.nn.Module):\n",
    "    def __init__(self):\n",
    "        super().__init__()\n",
    "        \n",
    "        self.loss_fn = torch.nn.CrossEntropyLoss()\n",
    "        \n",
    "    def forward(self, output, label):\n",
    "        num_steps = output.shape[2]\n",
    "        \n",
    "        L = torch.tensor(0.)\n",
    "        \n",
    "        for step in range(num_steps):\n",
    "            L += self.loss_fn(output[:,step,:], label)\n",
    "            \n",
    "        return L"
   ]
  },
  {
   "cell_type": "code",
   "execution_count": 32,
   "metadata": {
    "tags": []
   },
   "outputs": [
    {
     "ename": "ValueError",
     "evalue": "Expected input batch_size (251) to match target batch_size (126).",
     "output_type": "error",
     "traceback": [
      "\u001b[0;31m---------------------------------------------------------------------------\u001b[0m",
      "\u001b[0;31mValueError\u001b[0m                                Traceback (most recent call last)",
      "Cell \u001b[0;32mIn[32], line 2\u001b[0m\n\u001b[1;32m      1\u001b[0m loss_fn \u001b[38;5;241m=\u001b[39m Loss()\n\u001b[0;32m----> 2\u001b[0m \u001b[43mloss_fn\u001b[49m\u001b[43m(\u001b[49m\u001b[43moutput\u001b[49m\u001b[43m,\u001b[49m\u001b[43m \u001b[49m\u001b[43my_train\u001b[49m\u001b[43m)\u001b[49m\n",
      "File \u001b[0;32m~/miniconda3/envs/pnn/lib/python3.9/site-packages/torch/nn/modules/module.py:1051\u001b[0m, in \u001b[0;36mModule._call_impl\u001b[0;34m(self, *input, **kwargs)\u001b[0m\n\u001b[1;32m   1047\u001b[0m \u001b[38;5;66;03m# If we don't have any hooks, we want to skip the rest of the logic in\u001b[39;00m\n\u001b[1;32m   1048\u001b[0m \u001b[38;5;66;03m# this function, and just call forward.\u001b[39;00m\n\u001b[1;32m   1049\u001b[0m \u001b[38;5;28;01mif\u001b[39;00m \u001b[38;5;129;01mnot\u001b[39;00m (\u001b[38;5;28mself\u001b[39m\u001b[38;5;241m.\u001b[39m_backward_hooks \u001b[38;5;129;01mor\u001b[39;00m \u001b[38;5;28mself\u001b[39m\u001b[38;5;241m.\u001b[39m_forward_hooks \u001b[38;5;129;01mor\u001b[39;00m \u001b[38;5;28mself\u001b[39m\u001b[38;5;241m.\u001b[39m_forward_pre_hooks \u001b[38;5;129;01mor\u001b[39;00m _global_backward_hooks\n\u001b[1;32m   1050\u001b[0m         \u001b[38;5;129;01mor\u001b[39;00m _global_forward_hooks \u001b[38;5;129;01mor\u001b[39;00m _global_forward_pre_hooks):\n\u001b[0;32m-> 1051\u001b[0m     \u001b[38;5;28;01mreturn\u001b[39;00m \u001b[43mforward_call\u001b[49m\u001b[43m(\u001b[49m\u001b[38;5;241;43m*\u001b[39;49m\u001b[38;5;28;43minput\u001b[39;49m\u001b[43m,\u001b[49m\u001b[43m \u001b[49m\u001b[38;5;241;43m*\u001b[39;49m\u001b[38;5;241;43m*\u001b[39;49m\u001b[43mkwargs\u001b[49m\u001b[43m)\u001b[49m\n\u001b[1;32m   1052\u001b[0m \u001b[38;5;66;03m# Do not call functions when jit is used\u001b[39;00m\n\u001b[1;32m   1053\u001b[0m full_backward_hooks, non_full_backward_hooks \u001b[38;5;241m=\u001b[39m [], []\n",
      "Cell \u001b[0;32mIn[30], line 13\u001b[0m, in \u001b[0;36mLoss.forward\u001b[0;34m(self, output, label)\u001b[0m\n\u001b[1;32m     10\u001b[0m L \u001b[38;5;241m=\u001b[39m torch\u001b[38;5;241m.\u001b[39mtensor(\u001b[38;5;241m0.\u001b[39m)\n\u001b[1;32m     12\u001b[0m \u001b[38;5;28;01mfor\u001b[39;00m step \u001b[38;5;129;01min\u001b[39;00m \u001b[38;5;28mrange\u001b[39m(num_steps):\n\u001b[0;32m---> 13\u001b[0m     L \u001b[38;5;241m+\u001b[39m\u001b[38;5;241m=\u001b[39m \u001b[38;5;28;43mself\u001b[39;49m\u001b[38;5;241;43m.\u001b[39;49m\u001b[43mloss_fn\u001b[49m\u001b[43m(\u001b[49m\u001b[43moutput\u001b[49m\u001b[43m[\u001b[49m\u001b[43m:\u001b[49m\u001b[43m,\u001b[49m\u001b[43mstep\u001b[49m\u001b[43m,\u001b[49m\u001b[43m:\u001b[49m\u001b[43m]\u001b[49m\u001b[43m,\u001b[49m\u001b[43m \u001b[49m\u001b[43mlabel\u001b[49m\u001b[43m)\u001b[49m\n\u001b[1;32m     15\u001b[0m \u001b[38;5;28;01mreturn\u001b[39;00m L\n",
      "File \u001b[0;32m~/miniconda3/envs/pnn/lib/python3.9/site-packages/torch/nn/modules/module.py:1051\u001b[0m, in \u001b[0;36mModule._call_impl\u001b[0;34m(self, *input, **kwargs)\u001b[0m\n\u001b[1;32m   1047\u001b[0m \u001b[38;5;66;03m# If we don't have any hooks, we want to skip the rest of the logic in\u001b[39;00m\n\u001b[1;32m   1048\u001b[0m \u001b[38;5;66;03m# this function, and just call forward.\u001b[39;00m\n\u001b[1;32m   1049\u001b[0m \u001b[38;5;28;01mif\u001b[39;00m \u001b[38;5;129;01mnot\u001b[39;00m (\u001b[38;5;28mself\u001b[39m\u001b[38;5;241m.\u001b[39m_backward_hooks \u001b[38;5;129;01mor\u001b[39;00m \u001b[38;5;28mself\u001b[39m\u001b[38;5;241m.\u001b[39m_forward_hooks \u001b[38;5;129;01mor\u001b[39;00m \u001b[38;5;28mself\u001b[39m\u001b[38;5;241m.\u001b[39m_forward_pre_hooks \u001b[38;5;129;01mor\u001b[39;00m _global_backward_hooks\n\u001b[1;32m   1050\u001b[0m         \u001b[38;5;129;01mor\u001b[39;00m _global_forward_hooks \u001b[38;5;129;01mor\u001b[39;00m _global_forward_pre_hooks):\n\u001b[0;32m-> 1051\u001b[0m     \u001b[38;5;28;01mreturn\u001b[39;00m \u001b[43mforward_call\u001b[49m\u001b[43m(\u001b[49m\u001b[38;5;241;43m*\u001b[39;49m\u001b[38;5;28;43minput\u001b[39;49m\u001b[43m,\u001b[49m\u001b[43m \u001b[49m\u001b[38;5;241;43m*\u001b[39;49m\u001b[38;5;241;43m*\u001b[39;49m\u001b[43mkwargs\u001b[49m\u001b[43m)\u001b[49m\n\u001b[1;32m   1052\u001b[0m \u001b[38;5;66;03m# Do not call functions when jit is used\u001b[39;00m\n\u001b[1;32m   1053\u001b[0m full_backward_hooks, non_full_backward_hooks \u001b[38;5;241m=\u001b[39m [], []\n",
      "File \u001b[0;32m~/miniconda3/envs/pnn/lib/python3.9/site-packages/torch/nn/modules/loss.py:1120\u001b[0m, in \u001b[0;36mCrossEntropyLoss.forward\u001b[0;34m(self, input, target)\u001b[0m\n\u001b[1;32m   1119\u001b[0m \u001b[38;5;28;01mdef\u001b[39;00m \u001b[38;5;21mforward\u001b[39m(\u001b[38;5;28mself\u001b[39m, \u001b[38;5;28minput\u001b[39m: Tensor, target: Tensor) \u001b[38;5;241m-\u001b[39m\u001b[38;5;241m>\u001b[39m Tensor:\n\u001b[0;32m-> 1120\u001b[0m     \u001b[38;5;28;01mreturn\u001b[39;00m \u001b[43mF\u001b[49m\u001b[38;5;241;43m.\u001b[39;49m\u001b[43mcross_entropy\u001b[49m\u001b[43m(\u001b[49m\u001b[38;5;28;43minput\u001b[39;49m\u001b[43m,\u001b[49m\u001b[43m \u001b[49m\u001b[43mtarget\u001b[49m\u001b[43m,\u001b[49m\u001b[43m \u001b[49m\u001b[43mweight\u001b[49m\u001b[38;5;241;43m=\u001b[39;49m\u001b[38;5;28;43mself\u001b[39;49m\u001b[38;5;241;43m.\u001b[39;49m\u001b[43mweight\u001b[49m\u001b[43m,\u001b[49m\n\u001b[1;32m   1121\u001b[0m \u001b[43m                           \u001b[49m\u001b[43mignore_index\u001b[49m\u001b[38;5;241;43m=\u001b[39;49m\u001b[38;5;28;43mself\u001b[39;49m\u001b[38;5;241;43m.\u001b[39;49m\u001b[43mignore_index\u001b[49m\u001b[43m,\u001b[49m\u001b[43m \u001b[49m\u001b[43mreduction\u001b[49m\u001b[38;5;241;43m=\u001b[39;49m\u001b[38;5;28;43mself\u001b[39;49m\u001b[38;5;241;43m.\u001b[39;49m\u001b[43mreduction\u001b[49m\u001b[43m)\u001b[49m\n",
      "File \u001b[0;32m~/miniconda3/envs/pnn/lib/python3.9/site-packages/torch/nn/functional.py:2824\u001b[0m, in \u001b[0;36mcross_entropy\u001b[0;34m(input, target, weight, size_average, ignore_index, reduce, reduction)\u001b[0m\n\u001b[1;32m   2822\u001b[0m \u001b[38;5;28;01mif\u001b[39;00m size_average \u001b[38;5;129;01mis\u001b[39;00m \u001b[38;5;129;01mnot\u001b[39;00m \u001b[38;5;28;01mNone\u001b[39;00m \u001b[38;5;129;01mor\u001b[39;00m reduce \u001b[38;5;129;01mis\u001b[39;00m \u001b[38;5;129;01mnot\u001b[39;00m \u001b[38;5;28;01mNone\u001b[39;00m:\n\u001b[1;32m   2823\u001b[0m     reduction \u001b[38;5;241m=\u001b[39m _Reduction\u001b[38;5;241m.\u001b[39mlegacy_get_string(size_average, reduce)\n\u001b[0;32m-> 2824\u001b[0m \u001b[38;5;28;01mreturn\u001b[39;00m \u001b[43mtorch\u001b[49m\u001b[38;5;241;43m.\u001b[39;49m\u001b[43m_C\u001b[49m\u001b[38;5;241;43m.\u001b[39;49m\u001b[43m_nn\u001b[49m\u001b[38;5;241;43m.\u001b[39;49m\u001b[43mcross_entropy_loss\u001b[49m\u001b[43m(\u001b[49m\u001b[38;5;28;43minput\u001b[39;49m\u001b[43m,\u001b[49m\u001b[43m \u001b[49m\u001b[43mtarget\u001b[49m\u001b[43m,\u001b[49m\u001b[43m \u001b[49m\u001b[43mweight\u001b[49m\u001b[43m,\u001b[49m\u001b[43m \u001b[49m\u001b[43m_Reduction\u001b[49m\u001b[38;5;241;43m.\u001b[39;49m\u001b[43mget_enum\u001b[49m\u001b[43m(\u001b[49m\u001b[43mreduction\u001b[49m\u001b[43m)\u001b[49m\u001b[43m,\u001b[49m\u001b[43m \u001b[49m\u001b[43mignore_index\u001b[49m\u001b[43m)\u001b[49m\n",
      "\u001b[0;31mValueError\u001b[0m: Expected input batch_size (251) to match target batch_size (126)."
     ]
    }
   ],
   "source": [
    "loss_fn = Loss()\n",
    "loss_fn(output, y_train)"
   ]
  },
  {
   "cell_type": "code",
   "execution_count": 33,
   "metadata": {
    "tags": []
   },
   "outputs": [
    {
     "data": {
      "text/plain": [
       "torch.Size([126])"
      ]
     },
     "execution_count": 33,
     "metadata": {},
     "output_type": "execute_result"
    }
   ],
   "source": [
    "y_train.shape"
   ]
  },
  {
   "cell_type": "code",
   "execution_count": null,
   "metadata": {},
   "outputs": [],
   "source": [
    "output[:,step,:]"
   ]
  },
  {
   "cell_type": "code",
   "execution_count": null,
   "metadata": {},
   "outputs": [],
   "source": []
  },
  {
   "cell_type": "code",
   "execution_count": 14,
   "metadata": {
    "tags": []
   },
   "outputs": [
    {
     "name": "stdout",
     "output_type": "stream",
     "text": [
      "epoch:        0 | train loss: 1.09983e+00 | valid loss: 1.09651e+00 | train acc: 0.3730 | valid acc: 0.4524 | test acc: 0.3488 | patience: 0\n",
      "epoch:      100 | train loss: 1.09657e+00 | valid loss: 1.08602e+00 | train acc: 0.3730 | valid acc: 0.4524 | test acc: 0.3488 | patience: 0\n",
      "epoch:      200 | train loss: 1.09498e+00 | valid loss: 1.08216e+00 | train acc: 0.3730 | valid acc: 0.4524 | test acc: 0.3488 | patience: 0\n",
      "epoch:      300 | train loss: 1.09473e+00 | valid loss: 1.08142e+00 | train acc: 0.3730 | valid acc: 0.4524 | test acc: 0.3488 | patience: 0\n",
      "epoch:      400 | train loss: 1.09410e+00 | valid loss: 1.08017e+00 | train acc: 0.3730 | valid acc: 0.4524 | test acc: 0.3488 | patience: 0\n",
      "epoch:      500 | train loss: 1.07536e+00 | valid loss: 1.04674e+00 | train acc: 0.4365 | valid acc: 0.5238 | test acc: 0.4884 | patience: 0\n",
      "epoch:      600 | train loss: 1.05972e+00 | valid loss: 1.02772e+00 | train acc: 0.4603 | valid acc: 0.5238 | test acc: 0.4884 | patience: 0\n",
      "epoch:      700 | train loss: 1.05538e+00 | valid loss: 1.01820e+00 | train acc: 0.4524 | valid acc: 0.5476 | test acc: 0.5116 | patience: 30\n",
      "epoch:      800 | train loss: 1.04685e+00 | valid loss: 1.01861e+00 | train acc: 0.4762 | valid acc: 0.5714 | test acc: 0.5116 | patience: 97\n",
      "epoch:      900 | train loss: 1.04564e+00 | valid loss: 1.02440e+00 | train acc: 0.4603 | valid acc: 0.5238 | test acc: 0.5116 | patience: 197\n",
      "epoch:     1000 | train loss: 1.03192e+00 | valid loss: 1.00323e+00 | train acc: 0.4762 | valid acc: 0.5952 | test acc: 0.5116 | patience: 0\n",
      "epoch:     1100 | train loss: 1.02106e+00 | valid loss: 9.87113e-01 | train acc: 0.5000 | valid acc: 0.5952 | test acc: 0.5116 | patience: 3\n",
      "epoch:     1200 | train loss: 1.00983e+00 | valid loss: 9.99653e-01 | train acc: 0.5079 | valid acc: 0.5952 | test acc: 0.5349 | patience: 103\n",
      "epoch:     1300 | train loss: 1.00290e+00 | valid loss: 1.00380e+00 | train acc: 0.5159 | valid acc: 0.5952 | test acc: 0.5349 | patience: 203\n",
      "epoch:     1400 | train loss: 1.02562e+00 | valid loss: 1.01661e+00 | train acc: 0.4921 | valid acc: 0.5714 | test acc: 0.5116 | patience: 303\n",
      "epoch:     1500 | train loss: 1.00327e+00 | valid loss: 9.94978e-01 | train acc: 0.5238 | valid acc: 0.5714 | test acc: 0.5581 | patience: 403\n",
      "epoch:     1600 | train loss: 9.95146e-01 | valid loss: 9.90490e-01 | train acc: 0.5317 | valid acc: 0.6190 | test acc: 0.5814 | patience: 29\n",
      "epoch:     1700 | train loss: 1.03675e+00 | valid loss: 1.02616e+00 | train acc: 0.4921 | valid acc: 0.5476 | test acc: 0.4884 | patience: 129\n",
      "epoch:     1800 | train loss: 1.02912e+00 | valid loss: 1.00835e+00 | train acc: 0.5000 | valid acc: 0.5714 | test acc: 0.4651 | patience: 229\n",
      "epoch:     1900 | train loss: 1.02561e+00 | valid loss: 1.00401e+00 | train acc: 0.5000 | valid acc: 0.5714 | test acc: 0.4651 | patience: 329\n",
      "epoch:     2000 | train loss: 1.02267e+00 | valid loss: 1.00097e+00 | train acc: 0.5079 | valid acc: 0.5714 | test acc: 0.4884 | patience: 429\n"
     ]
    }
   ],
   "source": [
    "best_nn = T.training(model, loss_fn, optimizer, X_train, y_train, X_valid, y_valid, X_test, y_test)"
   ]
  },
  {
   "cell_type": "code",
   "execution_count": null,
   "metadata": {},
   "outputs": [],
   "source": []
  }
 ],
 "metadata": {
  "kernelspec": {
   "display_name": "pNN",
   "language": "python",
   "name": "pnn"
  },
  "language_info": {
   "codemirror_mode": {
    "name": "ipython",
    "version": 3
   },
   "file_extension": ".py",
   "mimetype": "text/x-python",
   "name": "python",
   "nbconvert_exporter": "python",
   "pygments_lexer": "ipython3",
   "version": "3.9.16"
  }
 },
 "nbformat": 4,
 "nbformat_minor": 4
}
