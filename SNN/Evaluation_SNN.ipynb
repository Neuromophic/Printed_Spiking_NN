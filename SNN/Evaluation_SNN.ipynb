{
 "cells": [
  {
   "cell_type": "code",
   "execution_count": null,
   "id": "89333041-d172-4d95-b9b3-f2867ae037a1",
   "metadata": {
    "tags": []
   },
   "outputs": [],
   "source": [
    "import sys\n",
    "import os\n",
    "from pathlib import Path\n",
    "import pickle\n",
    "import torch\n",
    "import pprint\n",
    "sys.path.append(os.getcwd())\n",
    "sys.path.append(str(Path(os.getcwd()).parent))\n",
    "from utils import *\n",
    "from configuration import *\n",
    "import numpy as np\n",
    "\n",
    "if not os.path.exists('./evaluation/'):\n",
    "    os.makedirs('./evaluation/')"
   ]
  },
  {
   "cell_type": "code",
   "execution_count": null,
   "id": "4a6aa068-4709-4181-8060-4af4dbccbc19",
   "metadata": {
    "tags": []
   },
   "outputs": [],
   "source": [
    "args = parser.parse_args([])\n",
    "args.task = 'temporized'\n",
    "args.metric = 'nominal_snn'\n",
    "args.SoftEva = True\n",
    "args = FormulateArgs(args)"
   ]
  },
  {
   "cell_type": "code",
   "execution_count": null,
   "id": "abe1ae00-dcac-4410-bfbb-25287ab417ba",
   "metadata": {
    "tags": []
   },
   "outputs": [],
   "source": [
    "results = torch.zeros([13,10,4])\n",
    "\n",
    "for seed in range(10):\n",
    "    for ds in range(13):\n",
    "        args.SEED = seed\n",
    "        args.DATASET = ds\n",
    "\n",
    "        valid_loader, datainfo = GetDataLoader(args, 'valid', path='../dataset')\n",
    "        test_loader , datainfo = GetDataLoader(args, 'test',  path='../dataset')\n",
    "\n",
    "        modelname = f\"model_SNN_data_{datainfo['dataname']}_seed_{args.SEED:02d}.model\"\n",
    "        \n",
    "        \n",
    "        if os.path.isfile(f'./models/{modelname}'):                \n",
    "            print(modelname)\n",
    "            \n",
    "            model = torch.load(f'./models/{modelname}', map_location=args.DEVICE)\n",
    "            model.UpdateArgs(args)\n",
    "\n",
    "            SetSeed(args.SEED)\n",
    "\n",
    "            evaluator = Evaluator(args).to(args.DEVICE)\n",
    "\n",
    "            for x,y in valid_loader:\n",
    "                X_valid, y_valid = x.to(args.DEVICE), y.to(args.DEVICE)\n",
    "            for x,y in test_loader:\n",
    "                X_test, y_test = x.to(args.DEVICE), y.to(args.DEVICE)\n",
    "\n",
    "            acc_valid, power_valid = evaluator(model, X_valid, y_valid)\n",
    "            acc_test, power_test   = evaluator(model, X_test,  y_test)\n",
    "\n",
    "            results[ds,seed,0] = acc_valid\n",
    "            results[ds,seed,1] = acc_test\n",
    "            results[ds,seed,2] = power_valid\n",
    "            results[ds,seed,3] = power_test\n",
    "            \n",
    "        else:\n",
    "            results[ds,seed,:] = float('nan')"
   ]
  },
  {
   "cell_type": "code",
   "execution_count": null,
   "id": "751f1d3c-12a5-4c67-9d96-15fb5d997d23",
   "metadata": {
    "tags": []
   },
   "outputs": [],
   "source": [
    "results.shape"
   ]
  },
  {
   "cell_type": "code",
   "execution_count": null,
   "id": "e349d638",
   "metadata": {
    "tags": []
   },
   "outputs": [],
   "source": [
    "valid_acc_data = results[:, :, 0]\n",
    "best_seeds = torch.argmax(valid_acc_data, dim=1)\n",
    "best_seeds"
   ]
  },
  {
   "cell_type": "code",
   "execution_count": null,
   "id": "7cb643f3",
   "metadata": {
    "tags": []
   },
   "outputs": [],
   "source": [
    "best_data = torch.zeros(13, 4)\n",
    "for i, seed in enumerate(best_seeds):\n",
    "    best_data[i] = results[i, seed]\n",
    "best_data_advanced = results[torch.arange(13), best_seeds]\n",
    "best_data_advanced"
   ]
  },
  {
   "cell_type": "code",
   "execution_count": null,
   "id": "65a18cf9-c431-4506-988a-1185eeae7ea5",
   "metadata": {
    "tags": []
   },
   "outputs": [],
   "source": [
    "best_data_advanced.mean(0)"
   ]
  },
  {
   "cell_type": "code",
   "execution_count": null,
   "id": "6e74efd8-6058-448b-9b59-1bee59ab5ccd",
   "metadata": {
    "tags": []
   },
   "outputs": [],
   "source": [
    "results_std = torch.std(results, dim=1)"
   ]
  },
  {
   "cell_type": "code",
   "execution_count": null,
   "id": "84efd3cb-1a75-424f-80e6-0cde53d5abcc",
   "metadata": {
    "tags": []
   },
   "outputs": [],
   "source": [
    "results_std"
   ]
  },
  {
   "cell_type": "code",
   "execution_count": null,
   "id": "c275a9ae-df0c-4d3d-b991-ca6de78d07cf",
   "metadata": {
    "tags": []
   },
   "outputs": [],
   "source": [
    "final = torch.cat([best_data_advanced, results_std], dim=1)\n",
    "final.shape"
   ]
  },
  {
   "cell_type": "code",
   "execution_count": null,
   "id": "ea90c715-cd08-4103-b01d-a1841a07add8",
   "metadata": {
    "tags": []
   },
   "outputs": [],
   "source": [
    "np.savetxt('./result.txt', final.numpy(), fmt='%.9f', delimiter='\\t')"
   ]
  },
  {
   "cell_type": "code",
   "execution_count": null,
   "id": "122ef07b-d551-44e4-a0cc-7cd1cd841047",
   "metadata": {},
   "outputs": [],
   "source": []
  }
 ],
 "metadata": {
  "kernelspec": {
   "display_name": "pNN",
   "language": "python",
   "name": "pnn"
  },
  "language_info": {
   "codemirror_mode": {
    "name": "ipython",
    "version": 3
   },
   "file_extension": ".py",
   "mimetype": "text/x-python",
   "name": "python",
   "nbconvert_exporter": "python",
   "pygments_lexer": "ipython3",
   "version": "3.9.16"
  }
 },
 "nbformat": 4,
 "nbformat_minor": 5
}
