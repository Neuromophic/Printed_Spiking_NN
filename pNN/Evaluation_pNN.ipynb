{
 "cells": [
  {
   "cell_type": "code",
   "execution_count": 1,
   "id": "89333041-d172-4d95-b9b3-f2867ae037a1",
   "metadata": {
    "tags": []
   },
   "outputs": [],
   "source": [
    "import sys\n",
    "import os\n",
    "from pathlib import Path\n",
    "import pickle\n",
    "import torch\n",
    "import pprint\n",
    "sys.path.append(os.getcwd())\n",
    "sys.path.append(str(Path(os.getcwd()).parent))\n",
    "from utils import *\n",
    "from configuration import *\n",
    "import numpy as np\n",
    "\n",
    "if not os.path.exists('./evaluation/'):\n",
    "    os.makedirs('./evaluation/')"
   ]
  },
  {
   "cell_type": "code",
   "execution_count": 2,
   "id": "4a6aa068-4709-4181-8060-4af4dbccbc19",
   "metadata": {
    "tags": []
   },
   "outputs": [],
   "source": [
    "args = parser.parse_args([])\n",
    "args.task = 'normal'\n",
    "args.metric = 'nominal'\n",
    "args.SoftEva = True\n",
    "args = FormulateArgs(args)"
   ]
  },
  {
   "cell_type": "code",
   "execution_count": 3,
   "id": "abe1ae00-dcac-4410-bfbb-25287ab417ba",
   "metadata": {
    "tags": []
   },
   "outputs": [
    {
     "name": "stdout",
     "output_type": "stream",
     "text": [
      "model_pNN_data_acuteinflammation_seed_00.model\n",
      "model_pNN_data_balancescale_seed_00.model\n",
      "model_pNN_data_breastcancerwisc_seed_00.model\n",
      "model_pNN_data_cardiotocography3clases_seed_00.model\n",
      "model_pNN_data_energyy1_seed_00.model\n",
      "model_pNN_data_energyy2_seed_00.model\n",
      "model_pNN_data_iris_seed_00.model\n",
      "model_pNN_data_mammographic_seed_00.model\n",
      "model_pNN_data_pendigits_seed_00.model\n",
      "model_pNN_data_seeds_seed_00.model\n",
      "model_pNN_data_tictactoe_seed_00.model\n",
      "model_pNN_data_vertebralcolumn2clases_seed_00.model\n",
      "model_pNN_data_vertebralcolumn3clases_seed_00.model\n",
      "model_pNN_data_acuteinflammation_seed_01.model\n",
      "model_pNN_data_balancescale_seed_01.model\n",
      "model_pNN_data_breastcancerwisc_seed_01.model\n",
      "model_pNN_data_cardiotocography3clases_seed_01.model\n",
      "model_pNN_data_energyy1_seed_01.model\n",
      "model_pNN_data_energyy2_seed_01.model\n",
      "model_pNN_data_iris_seed_01.model\n",
      "model_pNN_data_mammographic_seed_01.model\n",
      "model_pNN_data_pendigits_seed_01.model\n",
      "model_pNN_data_seeds_seed_01.model\n",
      "model_pNN_data_tictactoe_seed_01.model\n",
      "model_pNN_data_vertebralcolumn2clases_seed_01.model\n",
      "model_pNN_data_vertebralcolumn3clases_seed_01.model\n",
      "model_pNN_data_acuteinflammation_seed_02.model\n",
      "model_pNN_data_balancescale_seed_02.model\n",
      "model_pNN_data_breastcancerwisc_seed_02.model\n",
      "model_pNN_data_cardiotocography3clases_seed_02.model\n",
      "model_pNN_data_energyy1_seed_02.model\n",
      "model_pNN_data_energyy2_seed_02.model\n",
      "model_pNN_data_iris_seed_02.model\n",
      "model_pNN_data_mammographic_seed_02.model\n",
      "model_pNN_data_pendigits_seed_02.model\n",
      "model_pNN_data_seeds_seed_02.model\n",
      "model_pNN_data_tictactoe_seed_02.model\n",
      "model_pNN_data_vertebralcolumn2clases_seed_02.model\n",
      "model_pNN_data_vertebralcolumn3clases_seed_02.model\n",
      "model_pNN_data_acuteinflammation_seed_03.model\n",
      "model_pNN_data_balancescale_seed_03.model\n",
      "model_pNN_data_breastcancerwisc_seed_03.model\n",
      "model_pNN_data_cardiotocography3clases_seed_03.model\n",
      "model_pNN_data_energyy1_seed_03.model\n",
      "model_pNN_data_energyy2_seed_03.model\n",
      "model_pNN_data_iris_seed_03.model\n",
      "model_pNN_data_mammographic_seed_03.model\n",
      "model_pNN_data_pendigits_seed_03.model\n",
      "model_pNN_data_seeds_seed_03.model\n",
      "model_pNN_data_tictactoe_seed_03.model\n",
      "model_pNN_data_vertebralcolumn2clases_seed_03.model\n",
      "model_pNN_data_vertebralcolumn3clases_seed_03.model\n",
      "model_pNN_data_acuteinflammation_seed_04.model\n",
      "model_pNN_data_balancescale_seed_04.model\n",
      "model_pNN_data_breastcancerwisc_seed_04.model\n",
      "model_pNN_data_cardiotocography3clases_seed_04.model\n",
      "model_pNN_data_energyy1_seed_04.model\n",
      "model_pNN_data_energyy2_seed_04.model\n",
      "model_pNN_data_iris_seed_04.model\n",
      "model_pNN_data_mammographic_seed_04.model\n",
      "model_pNN_data_pendigits_seed_04.model\n",
      "model_pNN_data_seeds_seed_04.model\n",
      "model_pNN_data_tictactoe_seed_04.model\n",
      "model_pNN_data_vertebralcolumn2clases_seed_04.model\n",
      "model_pNN_data_vertebralcolumn3clases_seed_04.model\n",
      "model_pNN_data_acuteinflammation_seed_05.model\n",
      "model_pNN_data_balancescale_seed_05.model\n",
      "model_pNN_data_breastcancerwisc_seed_05.model\n",
      "model_pNN_data_cardiotocography3clases_seed_05.model\n",
      "model_pNN_data_energyy1_seed_05.model\n",
      "model_pNN_data_energyy2_seed_05.model\n",
      "model_pNN_data_iris_seed_05.model\n",
      "model_pNN_data_mammographic_seed_05.model\n",
      "model_pNN_data_pendigits_seed_05.model\n",
      "model_pNN_data_seeds_seed_05.model\n",
      "model_pNN_data_tictactoe_seed_05.model\n",
      "model_pNN_data_vertebralcolumn2clases_seed_05.model\n",
      "model_pNN_data_vertebralcolumn3clases_seed_05.model\n",
      "model_pNN_data_acuteinflammation_seed_06.model\n",
      "model_pNN_data_balancescale_seed_06.model\n",
      "model_pNN_data_breastcancerwisc_seed_06.model\n",
      "model_pNN_data_cardiotocography3clases_seed_06.model\n",
      "model_pNN_data_energyy1_seed_06.model\n",
      "model_pNN_data_energyy2_seed_06.model\n",
      "model_pNN_data_iris_seed_06.model\n",
      "model_pNN_data_mammographic_seed_06.model\n",
      "model_pNN_data_pendigits_seed_06.model\n",
      "model_pNN_data_seeds_seed_06.model\n",
      "model_pNN_data_tictactoe_seed_06.model\n",
      "model_pNN_data_vertebralcolumn2clases_seed_06.model\n",
      "model_pNN_data_vertebralcolumn3clases_seed_06.model\n",
      "model_pNN_data_acuteinflammation_seed_07.model\n",
      "model_pNN_data_balancescale_seed_07.model\n",
      "model_pNN_data_breastcancerwisc_seed_07.model\n",
      "model_pNN_data_cardiotocography3clases_seed_07.model\n",
      "model_pNN_data_energyy1_seed_07.model\n",
      "model_pNN_data_energyy2_seed_07.model\n",
      "model_pNN_data_iris_seed_07.model\n",
      "model_pNN_data_mammographic_seed_07.model\n",
      "model_pNN_data_pendigits_seed_07.model\n",
      "model_pNN_data_seeds_seed_07.model\n",
      "model_pNN_data_tictactoe_seed_07.model\n",
      "model_pNN_data_vertebralcolumn2clases_seed_07.model\n",
      "model_pNN_data_vertebralcolumn3clases_seed_07.model\n",
      "model_pNN_data_acuteinflammation_seed_08.model\n",
      "model_pNN_data_balancescale_seed_08.model\n",
      "model_pNN_data_breastcancerwisc_seed_08.model\n",
      "model_pNN_data_cardiotocography3clases_seed_08.model\n",
      "model_pNN_data_energyy1_seed_08.model\n",
      "model_pNN_data_energyy2_seed_08.model\n",
      "model_pNN_data_iris_seed_08.model\n",
      "model_pNN_data_mammographic_seed_08.model\n",
      "model_pNN_data_pendigits_seed_08.model\n",
      "model_pNN_data_seeds_seed_08.model\n",
      "model_pNN_data_tictactoe_seed_08.model\n",
      "model_pNN_data_vertebralcolumn2clases_seed_08.model\n",
      "model_pNN_data_vertebralcolumn3clases_seed_08.model\n",
      "model_pNN_data_acuteinflammation_seed_09.model\n",
      "model_pNN_data_balancescale_seed_09.model\n",
      "model_pNN_data_breastcancerwisc_seed_09.model\n",
      "model_pNN_data_cardiotocography3clases_seed_09.model\n",
      "model_pNN_data_energyy1_seed_09.model\n",
      "model_pNN_data_energyy2_seed_09.model\n",
      "model_pNN_data_iris_seed_09.model\n",
      "model_pNN_data_mammographic_seed_09.model\n",
      "model_pNN_data_pendigits_seed_09.model\n",
      "model_pNN_data_seeds_seed_09.model\n",
      "model_pNN_data_tictactoe_seed_09.model\n",
      "model_pNN_data_vertebralcolumn2clases_seed_09.model\n",
      "model_pNN_data_vertebralcolumn3clases_seed_09.model\n"
     ]
    }
   ],
   "source": [
    "results = torch.zeros([13,10,4])\n",
    "\n",
    "for seed in range(10):\n",
    "    for ds in range(13):\n",
    "        args.SEED = seed\n",
    "        args.DATASET = ds\n",
    "\n",
    "        valid_loader, datainfo = GetDataLoader(args, 'valid', path='../dataset')\n",
    "        test_loader , datainfo = GetDataLoader(args, 'test',  path='../dataset')\n",
    "\n",
    "        modelname = f\"model_pNN_data_{datainfo['dataname']}_seed_{args.SEED:02d}.model\"\n",
    "        \n",
    "        \n",
    "        if os.path.isfile(f'./models/{modelname}'):                \n",
    "            print(modelname)\n",
    "            \n",
    "            model = torch.load(f'./models/{modelname}', map_location=args.DEVICE)\n",
    "            model.SetParameter('args', args)\n",
    "\n",
    "            SetSeed(args.SEED)\n",
    "\n",
    "            evaluator = Evaluator(args).to(args.DEVICE)\n",
    "\n",
    "            for x,y in valid_loader:\n",
    "                X_valid, y_valid = x.to(args.DEVICE), y.to(args.DEVICE)\n",
    "            for x,y in test_loader:\n",
    "                X_test, y_test = x.to(args.DEVICE), y.to(args.DEVICE)\n",
    "\n",
    "            acc_valid, power_valid = evaluator(model, X_valid, y_valid)\n",
    "            acc_test, power_test   = evaluator(model, X_test,  y_test)\n",
    "\n",
    "            results[ds,seed,0] = acc_valid\n",
    "            results[ds,seed,1] = acc_test\n",
    "            results[ds,seed,2] = power_valid\n",
    "            results[ds,seed,3] = power_test\n",
    "            \n",
    "        else:\n",
    "            results[ds,seed,:] = float('nan')"
   ]
  },
  {
   "cell_type": "code",
   "execution_count": 4,
   "id": "751f1d3c-12a5-4c67-9d96-15fb5d997d23",
   "metadata": {
    "tags": []
   },
   "outputs": [
    {
     "data": {
      "text/plain": [
       "torch.Size([13, 10, 4])"
      ]
     },
     "execution_count": 4,
     "metadata": {},
     "output_type": "execute_result"
    }
   ],
   "source": [
    "results.shape"
   ]
  },
  {
   "cell_type": "code",
   "execution_count": 5,
   "id": "e349d638",
   "metadata": {
    "tags": []
   },
   "outputs": [
    {
     "data": {
      "text/plain": [
       "tensor([0, 3, 5, 0, 2, 3, 0, 0, 9, 6, 9, 0, 4])"
      ]
     },
     "execution_count": 5,
     "metadata": {},
     "output_type": "execute_result"
    }
   ],
   "source": [
    "valid_acc_data = results[:, :, 0]\n",
    "best_seeds = torch.argmax(valid_acc_data, dim=1)\n",
    "best_seeds"
   ]
  },
  {
   "cell_type": "code",
   "execution_count": 6,
   "id": "7cb643f3",
   "metadata": {
    "tags": []
   },
   "outputs": [
    {
     "data": {
      "text/plain": [
       "tensor([[1.0000e+00, 1.0000e+00, 5.5201e-04, 5.5229e-04],\n",
       "        [9.7581e-01, 8.8608e-01, 7.2599e-04, 7.3007e-04],\n",
       "        [9.7638e-01, 9.6203e-01, 5.9318e-04, 5.9093e-04],\n",
       "        [7.4016e-01, 7.4684e-01, 6.5931e-04, 6.5930e-04],\n",
       "        [8.8189e-01, 9.8734e-01, 7.5211e-04, 7.5404e-04],\n",
       "        [9.2913e-01, 9.1139e-01, 8.0990e-04, 8.1391e-04],\n",
       "        [7.5862e-01, 6.4516e-01, 6.4812e-04, 6.4901e-04],\n",
       "        [8.1890e-01, 8.3544e-01, 6.0098e-04, 6.0092e-04],\n",
       "        [5.9843e-01, 4.9367e-01, 2.4899e-03, 2.4934e-03],\n",
       "        [9.2683e-01, 9.0698e-01, 7.2935e-04, 7.1571e-04],\n",
       "        [9.6063e-01, 8.4810e-01, 7.3566e-04, 7.3750e-04],\n",
       "        [8.5246e-01, 8.4127e-01, 5.9427e-04, 5.9206e-04],\n",
       "        [8.8525e-01, 8.0952e-01, 7.0689e-04, 7.0646e-04]],\n",
       "       grad_fn=<IndexBackward>)"
      ]
     },
     "execution_count": 6,
     "metadata": {},
     "output_type": "execute_result"
    }
   ],
   "source": [
    "best_data = torch.zeros(13, 4)\n",
    "for i, seed in enumerate(best_seeds):\n",
    "    best_data[i] = results[i, seed]\n",
    "best_data_advanced = results[torch.arange(13), best_seeds]\n",
    "best_data_advanced"
   ]
  },
  {
   "cell_type": "code",
   "execution_count": 7,
   "id": "6e74efd8-6058-448b-9b59-1bee59ab5ccd",
   "metadata": {
    "tags": []
   },
   "outputs": [],
   "source": [
    "results_std = torch.std(results, dim=1)"
   ]
  },
  {
   "cell_type": "code",
   "execution_count": 8,
   "id": "84efd3cb-1a75-424f-80e6-0cde53d5abcc",
   "metadata": {
    "tags": []
   },
   "outputs": [
    {
     "data": {
      "text/plain": [
       "tensor([[0.0000e+00, 0.0000e+00, 9.0285e-06, 9.3116e-06],\n",
       "        [2.6153e-01, 2.3217e-01, 2.1745e-05, 2.2722e-05],\n",
       "        [5.3146e-03, 1.0757e-02, 7.4644e-05, 7.1729e-05],\n",
       "        [0.0000e+00, 0.0000e+00, 4.7953e-06, 4.7948e-06],\n",
       "        [4.1175e-02, 7.1866e-02, 2.9123e-05, 2.8307e-05],\n",
       "        [5.0493e-02, 7.7066e-02, 1.0743e-04, 1.0810e-04],\n",
       "        [0.0000e+00, 0.0000e+00, 4.9044e-05, 6.3271e-05],\n",
       "        [5.5056e-03, 7.1854e-03, 1.2482e-05, 1.2296e-05],\n",
       "        [1.1309e-01, 1.1096e-01, 2.7060e-04, 2.7005e-04],\n",
       "        [1.7254e-01, 7.4354e-02, 2.2728e-04, 1.7415e-04],\n",
       "        [3.2835e-02, 4.9134e-02, 1.3929e-04, 1.4624e-04],\n",
       "        [8.6401e-03, 7.6674e-03, 1.3113e-05, 1.2366e-05],\n",
       "        [1.5552e-02, 2.9173e-02, 2.2433e-05, 2.3280e-05]],\n",
       "       grad_fn=<StdBackward>)"
      ]
     },
     "execution_count": 8,
     "metadata": {},
     "output_type": "execute_result"
    }
   ],
   "source": [
    "results_std"
   ]
  },
  {
   "cell_type": "code",
   "execution_count": 9,
   "id": "c275a9ae-df0c-4d3d-b991-ca6de78d07cf",
   "metadata": {
    "tags": []
   },
   "outputs": [
    {
     "data": {
      "text/plain": [
       "torch.Size([13, 8])"
      ]
     },
     "execution_count": 9,
     "metadata": {},
     "output_type": "execute_result"
    }
   ],
   "source": [
    "final = torch.cat([best_data_advanced, results_std], dim=1)\n",
    "final.shape"
   ]
  },
  {
   "cell_type": "code",
   "execution_count": 10,
   "id": "ea90c715-cd08-4103-b01d-a1841a07add8",
   "metadata": {
    "tags": []
   },
   "outputs": [],
   "source": [
    "np.savetxt('./result.txt', final.detach().numpy(), fmt='%.9f', delimiter='\\t')"
   ]
  },
  {
   "cell_type": "code",
   "execution_count": null,
   "id": "122ef07b-d551-44e4-a0cc-7cd1cd841047",
   "metadata": {},
   "outputs": [],
   "source": []
  }
 ],
 "metadata": {
  "kernelspec": {
   "display_name": "pNN",
   "language": "python",
   "name": "pnn"
  },
  "language_info": {
   "codemirror_mode": {
    "name": "ipython",
    "version": 3
   },
   "file_extension": ".py",
   "mimetype": "text/x-python",
   "name": "python",
   "nbconvert_exporter": "python",
   "pygments_lexer": "ipython3",
   "version": "3.9.16"
  }
 },
 "nbformat": 4,
 "nbformat_minor": 5
}
