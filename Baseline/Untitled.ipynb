{
 "cells": [
  {
   "cell_type": "code",
   "execution_count": 13,
   "id": "89333041-d172-4d95-b9b3-f2867ae037a1",
   "metadata": {
    "tags": []
   },
   "outputs": [],
   "source": [
    "#!/usr/bin/env python\n",
    "\n",
    "#SBATCH --job-name=PowerEva\n",
    "\n",
    "#SBATCH --error=%x.%j.err\n",
    "#SBATCH --output=%x.%j.out\n",
    "\n",
    "#SBATCH --mail-user=hzhao@teco.edu\n",
    "\n",
    "#SBATCH --export=ALL\n",
    "\n",
    "#SBATCH --time=48:00:00\n",
    "\n",
    "#SBATCH --partition=sdil\n",
    "#SBATCH --gres=gpu:1\n",
    "\n",
    "import sys\n",
    "import os\n",
    "from pathlib import Path\n",
    "import pickle\n",
    "import torch\n",
    "import pprint\n",
    "sys.path.append(os.getcwd())\n",
    "sys.path.append(str(Path(os.getcwd()).parent))\n",
    "from utils import *\n",
    "from configuration import *\n",
    "import numpy as np\n",
    "\n",
    "if not os.path.exists('./evaluation/'):\n",
    "    os.makedirs('./evaluation/')"
   ]
  },
  {
   "cell_type": "code",
   "execution_count": 14,
   "id": "4a6aa068-4709-4181-8060-4af4dbccbc19",
   "metadata": {
    "tags": []
   },
   "outputs": [],
   "source": [
    "args = parser.parse_args([])\n",
    "args.DATASET = 0\n",
    "args.SoftEva = True\n",
    "args = FormulateArgs(args)"
   ]
  },
  {
   "cell_type": "code",
   "execution_count": 15,
   "id": "1abc4ade-1efd-4f46-a1e6-706f571b0b7a",
   "metadata": {
    "tags": []
   },
   "outputs": [
    {
     "name": "stdout",
     "output_type": "stream",
     "text": [
      "{'N_class': 2,\n",
      " 'N_feature': 6,\n",
      " 'N_test': 25,\n",
      " 'N_time': 32,\n",
      " 'N_train': 70,\n",
      " 'N_valid': 23,\n",
      " 'dataname': 'acuteinflammation'}\n"
     ]
    }
   ],
   "source": [
    "valid_loader, datainfo = GetDataLoader(args, 'valid', path='../dataset/')\n",
    "test_loader , datainfo = GetDataLoader(args, 'test',  path='../dataset/')\n",
    "pprint.pprint(datainfo)"
   ]
  },
  {
   "cell_type": "code",
   "execution_count": 16,
   "id": "ca9b8ab3-c95c-4cc3-b4a9-82b9804523b8",
   "metadata": {
    "tags": []
   },
   "outputs": [
    {
     "data": {
      "text/plain": [
       "nan"
      ]
     },
     "execution_count": 16,
     "metadata": {},
     "output_type": "execute_result"
    }
   ],
   "source": [
    "float('nan')"
   ]
  },
  {
   "cell_type": "code",
   "execution_count": 17,
   "id": "abe1ae00-dcac-4410-bfbb-25287ab417ba",
   "metadata": {
    "tags": []
   },
   "outputs": [],
   "source": [
    "MODELS = ['MLP', 'pNN', 'pNN_opw', 'LSTM', 'SNN', 'SNN_opw']\n",
    "models_t = ['LSTM', 'SNN', 'SNN_opw']\n",
    "models_n = ['MLP', 'pNN', 'pNN_opw']\n",
    "learnablability = [[False, False], [True, False], [True, True]]\n",
    "results = torch.zeros([10,6,3,4])\n",
    "\n",
    "for seed in range(10):\n",
    "    for m, mo in enumerate(MODELS):\n",
    "        for l, lnc in enumerate(learnablability):\n",
    "            args.SEED = seed\n",
    "\n",
    "            if mo in models_t:\n",
    "                args.task = 'temporized'\n",
    "            elif mo in models_n:\n",
    "                args.task = 'normal'\n",
    "                \n",
    "            if mo.startswith('SNN'):\n",
    "                args.metric = 'acc_snn'\n",
    "            else:\n",
    "                args.metric = 'acc'\n",
    "\n",
    "            valid_loader, datainfo = GetDataLoader(args, 'valid', path='../dataset/')\n",
    "            test_loader , datainfo = GetDataLoader(args, 'test',  path='../dataset/')\n",
    "\n",
    "            modelname = f\"baseline_model_{mo}_data_{datainfo['dataname']}_seed_{args.SEED:02d}_lnc_{lnc[0]}_ilnc_{lnc[1]}.model\"\n",
    "            # print(modelname)\n",
    "            \n",
    "            if os.path.isfile(f'./models/{modelname}'):                \n",
    "                model = torch.load(f'./models/{modelname}', map_location=args.DEVICE)\n",
    "                model.UpdateArgs(args)\n",
    "\n",
    "                SetSeed(args.SEED)\n",
    "\n",
    "                evaluator = Evaluator(args).to(args.DEVICE)\n",
    "\n",
    "                for x,y in valid_loader:\n",
    "                    X_valid, y_valid = x.to(args.DEVICE), y.to(args.DEVICE)\n",
    "                for x,y in test_loader:\n",
    "                    X_test, y_test = x.to(args.DEVICE), y.to(args.DEVICE)\n",
    "\n",
    "                acc_valid, power_valid = evaluator(model, X_valid, y_valid)\n",
    "                acc_test, power_test   = evaluator(model, X_test,  y_test)\n",
    "\n",
    "                results[seed,m,l,0] = acc_valid\n",
    "                results[seed,m,l,1] = power_valid.cpu().item()\n",
    "                results[seed,m,l,2] = acc_test\n",
    "                results[seed,m,l,3] = power_test.cpu().item()\n",
    "            else:\n",
    "                results[seed,m,l,:] = float('nan')\n",
    "                \n",
    "# torch.save(results, f\"./evaluation/result_data:{datainfo['dataname']}\")\n"
   ]
  },
  {
   "cell_type": "code",
   "execution_count": 18,
   "id": "751f1d3c-12a5-4c67-9d96-15fb5d997d23",
   "metadata": {},
   "outputs": [
    {
     "data": {
      "text/plain": [
       "torch.Size([10, 6, 3, 4])"
      ]
     },
     "execution_count": 18,
     "metadata": {},
     "output_type": "execute_result"
    }
   ],
   "source": [
    "results.shape"
   ]
  },
  {
   "cell_type": "code",
   "execution_count": 19,
   "id": "a33e5d53-9d08-4cdf-b8de-f03c11d99de6",
   "metadata": {
    "tags": []
   },
   "outputs": [
    {
     "name": "stderr",
     "output_type": "stream",
     "text": [
      "/scratch/slurm_tmpdir/job_22351573/ipykernel_793480/1855993405.py:1: RuntimeWarning: Mean of empty slice\n",
      "  m = torch.tensor(np.nanmean(results.numpy(), axis=0))\n"
     ]
    }
   ],
   "source": [
    "m = torch.tensor(np.nanmean(results.numpy(), axis=0))\n",
    "s = torch.tensor(np.nanstd(results.numpy(), axis=0))"
   ]
  },
  {
   "cell_type": "code",
   "execution_count": null,
   "id": "b31fec83-b834-43ef-9438-d54cba7ca7c8",
   "metadata": {
    "tags": []
   },
   "outputs": [],
   "source": [
    "m.shape"
   ]
  },
  {
   "cell_type": "code",
   "execution_count": 9,
   "id": "9fcb8799-32a2-4445-96bc-b94e8293526c",
   "metadata": {
    "tags": []
   },
   "outputs": [
    {
     "data": {
      "text/plain": [
       "tensor([0.9091,    nan, 0.8377])"
      ]
     },
     "execution_count": 9,
     "metadata": {},
     "output_type": "execute_result"
    }
   ],
   "source": [
    "m[4,:,2]"
   ]
  },
  {
   "cell_type": "code",
   "execution_count": 10,
   "id": "d4c39ef5-0c00-4d93-b95c-a90014d56420",
   "metadata": {
    "tags": []
   },
   "outputs": [
    {
     "data": {
      "text/plain": [
       "tensor([0., nan, 0.])"
      ]
     },
     "execution_count": 10,
     "metadata": {},
     "output_type": "execute_result"
    }
   ],
   "source": [
    "s[4,:,2]"
   ]
  },
  {
   "cell_type": "code",
   "execution_count": 11,
   "id": "94ad1216-907e-4efe-ad9a-6b4c385aca64",
   "metadata": {
    "tags": []
   },
   "outputs": [
    {
     "data": {
      "text/plain": [
       "tensor([nan, nan, nan])"
      ]
     },
     "execution_count": 11,
     "metadata": {},
     "output_type": "execute_result"
    }
   ],
   "source": [
    "m[5,:,2]"
   ]
  },
  {
   "cell_type": "code",
   "execution_count": 12,
   "id": "3865d983-42e6-47c1-8f2d-409242fb217c",
   "metadata": {
    "tags": []
   },
   "outputs": [
    {
     "data": {
      "text/plain": [
       "tensor([nan, nan, nan])"
      ]
     },
     "execution_count": 12,
     "metadata": {},
     "output_type": "execute_result"
    }
   ],
   "source": [
    "s[5,:,2]"
   ]
  },
  {
   "cell_type": "code",
   "execution_count": null,
   "id": "b2e0bf4f-8dee-4ba8-b398-bb3faa95b12a",
   "metadata": {},
   "outputs": [],
   "source": []
  }
 ],
 "metadata": {
  "kernelspec": {
   "display_name": "pNN",
   "language": "python",
   "name": "pnn"
  },
  "language_info": {
   "codemirror_mode": {
    "name": "ipython",
    "version": 3
   },
   "file_extension": ".py",
   "mimetype": "text/x-python",
   "name": "python",
   "nbconvert_exporter": "python",
   "pygments_lexer": "ipython3",
   "version": "3.9.16"
  }
 },
 "nbformat": 4,
 "nbformat_minor": 5
}
