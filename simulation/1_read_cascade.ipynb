{
 "cells": [
  {
   "cell_type": "code",
   "execution_count": null,
   "metadata": {
    "tags": []
   },
   "outputs": [],
   "source": [
    "import pandas\n",
    "import numpy as np\n",
    "import matplotlib.pyplot as plt\n",
    "import torch"
   ]
  },
  {
   "cell_type": "code",
   "execution_count": null,
   "metadata": {},
   "outputs": [],
   "source": [
    "file_name_in = 'VOUTBuff_const'\n",
    "file_name_out = 'VOUTBuff_const_secondNeuron'"
   ]
  },
  {
   "cell_type": "code",
   "execution_count": null,
   "metadata": {
    "tags": []
   },
   "outputs": [],
   "source": [
    "vin = pandas.read_csv(f'./data/{file_name_in}.csv')\n",
    "vin"
   ]
  },
  {
   "cell_type": "code",
   "execution_count": null,
   "metadata": {
    "tags": []
   },
   "outputs": [],
   "source": [
    "spk = pandas.read_csv(f'./data/{file_name_out}.csv')\n",
    "spk"
   ]
  },
  {
   "cell_type": "code",
   "execution_count": null,
   "metadata": {
    "tags": []
   },
   "outputs": [],
   "source": [
    "t   = torch.tensor(vin.iloc[:,0].to_numpy()).repeat(2001,1).T\n",
    "VIN = torch.tensor(vin.iloc[:,4003::2].to_numpy().astype(np.float32))\n",
    "VOUT = torch.tensor(spk.iloc[:,4003::2].to_numpy().astype(np.float32))\n",
    "\n",
    "data = torch.stack([t, VIN, VOUT])\n",
    "data = data[:,:3000:10,:]\n",
    "data.shape"
   ]
  },
  {
   "cell_type": "code",
   "execution_count": null,
   "metadata": {},
   "outputs": [],
   "source": [
    "plt.figure(figsize=[20,5])\n",
    "for k in np.linspace(0,data.shape[2]-1,15).astype(int):\n",
    "    i = k\n",
    "    plt.plot(data[0,:,i], data[1,:,i], '--', label=f'{i}')\n",
    "# plt.legend()\n",
    "plt.xlabel('t')\n",
    "plt.ylabel('V_in')\n",
    "plt.title(file_name_in)\n",
    "plt.savefig(f'./data/Visualization_{file_name_in}.pdf', format='pdf', bbox_inches='tight', transparent=True)"
   ]
  },
  {
   "cell_type": "code",
   "execution_count": null,
   "metadata": {
    "tags": []
   },
   "outputs": [],
   "source": [
    "plt.figure(figsize=[20,5])\n",
    "for k in np.linspace(0,data.shape[2]-1,15).astype(int):\n",
    "    i = k\n",
    "    plt.plot(data[0,:,i], data[2,:,i], '--', label=f'V_in = {data[1,0,i]:.4f} V')\n",
    "# plt.legend()\n",
    "plt.xlabel('t')\n",
    "plt.ylabel('V_out')\n",
    "plt.title(file_name_out)\n",
    "plt.savefig(f'./data/Visualization_{file_name_out}.pdf', format='pdf', bbox_inches='tight', transparent=True)"
   ]
  },
  {
   "cell_type": "code",
   "execution_count": null,
   "metadata": {},
   "outputs": [],
   "source": [
    "np.savetxt('./data/vin_cascade.csv', data[1,:,:], fmt='%.8f', delimiter=',')\n",
    "np.savetxt('./data/vout_cascade.csv', data[2,:,:], fmt='%.8f', delimiter=',')"
   ]
  },
  {
   "cell_type": "code",
   "execution_count": null,
   "metadata": {},
   "outputs": [],
   "source": []
  }
 ],
 "metadata": {
  "kernelspec": {
   "display_name": "ML",
   "language": "python",
   "name": "ml"
  },
  "language_info": {
   "codemirror_mode": {
    "name": "ipython",
    "version": 3
   },
   "file_extension": ".py",
   "mimetype": "text/x-python",
   "name": "python",
   "nbconvert_exporter": "python",
   "pygments_lexer": "ipython3",
   "version": "3.8.13"
  },
  "toc": {
   "base_numbering": 1,
   "nav_menu": {},
   "number_sections": true,
   "sideBar": true,
   "skip_h1_title": false,
   "title_cell": "Table of Contents",
   "title_sidebar": "Contents",
   "toc_cell": false,
   "toc_position": {},
   "toc_section_display": true,
   "toc_window_display": false
  }
 },
 "nbformat": 4,
 "nbformat_minor": 4
}
