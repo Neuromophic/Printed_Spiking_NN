{
 "cells": [
  {
   "cell_type": "code",
   "execution_count": 12,
   "metadata": {},
   "outputs": [],
   "source": [
    "import pandas\n",
    "import numpy as np\n",
    "import matplotlib.pyplot as plt\n",
    "from scipy import optimize as op\n",
    "import math\n",
    "import torch"
   ]
  },
  {
   "cell_type": "code",
   "execution_count": 13,
   "metadata": {
    "scrolled": true
   },
   "outputs": [
    {
     "data": {
      "text/html": [
       "<div>\n",
       "<style scoped>\n",
       "    .dataframe tbody tr th:only-of-type {\n",
       "        vertical-align: middle;\n",
       "    }\n",
       "\n",
       "    .dataframe tbody tr th {\n",
       "        vertical-align: top;\n",
       "    }\n",
       "\n",
       "    .dataframe thead th {\n",
       "        text-align: right;\n",
       "    }\n",
       "</style>\n",
       "<table border=\"1\" class=\"dataframe\">\n",
       "  <thead>\n",
       "    <tr style=\"text-align: right;\">\n",
       "      <th></th>\n",
       "      <th>R1_data</th>\n",
       "      <th>R2_data</th>\n",
       "      <th>W1_data</th>\n",
       "      <th>L1_data</th>\n",
       "      <th>W2_data</th>\n",
       "      <th>L2_data</th>\n",
       "    </tr>\n",
       "  </thead>\n",
       "  <tbody>\n",
       "    <tr>\n",
       "      <th>0</th>\n",
       "      <td>5.747525e+05</td>\n",
       "      <td>12544.854490</td>\n",
       "      <td>0.000098</td>\n",
       "      <td>0.000076</td>\n",
       "      <td>0.000494</td>\n",
       "      <td>0.000035</td>\n",
       "    </tr>\n",
       "    <tr>\n",
       "      <th>1</th>\n",
       "      <td>1.855941e+06</td>\n",
       "      <td>7804.580458</td>\n",
       "      <td>0.000080</td>\n",
       "      <td>0.000069</td>\n",
       "      <td>0.000492</td>\n",
       "      <td>0.000035</td>\n",
       "    </tr>\n",
       "    <tr>\n",
       "      <th>2</th>\n",
       "      <td>1.055941e+06</td>\n",
       "      <td>13348.334830</td>\n",
       "      <td>0.000094</td>\n",
       "      <td>0.000042</td>\n",
       "      <td>0.000491</td>\n",
       "      <td>0.000040</td>\n",
       "    </tr>\n",
       "    <tr>\n",
       "      <th>3</th>\n",
       "      <td>1.616157e+06</td>\n",
       "      <td>20343.034300</td>\n",
       "      <td>0.000092</td>\n",
       "      <td>0.000067</td>\n",
       "      <td>0.000481</td>\n",
       "      <td>0.000036</td>\n",
       "    </tr>\n",
       "    <tr>\n",
       "      <th>4</th>\n",
       "      <td>9.382088e+05</td>\n",
       "      <td>31791.979200</td>\n",
       "      <td>0.000087</td>\n",
       "      <td>0.000071</td>\n",
       "      <td>0.000485</td>\n",
       "      <td>0.000036</td>\n",
       "    </tr>\n",
       "    <tr>\n",
       "      <th>...</th>\n",
       "      <td>...</td>\n",
       "      <td>...</td>\n",
       "      <td>...</td>\n",
       "      <td>...</td>\n",
       "      <td>...</td>\n",
       "      <td>...</td>\n",
       "    </tr>\n",
       "    <tr>\n",
       "      <th>9995</th>\n",
       "      <td>7.599910e+05</td>\n",
       "      <td>26895.689570</td>\n",
       "      <td>0.000096</td>\n",
       "      <td>0.000076</td>\n",
       "      <td>0.000495</td>\n",
       "      <td>0.000031</td>\n",
       "    </tr>\n",
       "    <tr>\n",
       "      <th>9996</th>\n",
       "      <td>1.978893e+06</td>\n",
       "      <td>14908.490850</td>\n",
       "      <td>0.000090</td>\n",
       "      <td>0.000058</td>\n",
       "      <td>0.000486</td>\n",
       "      <td>0.000035</td>\n",
       "    </tr>\n",
       "    <tr>\n",
       "      <th>9997</th>\n",
       "      <td>1.751350e+06</td>\n",
       "      <td>28643.064310</td>\n",
       "      <td>0.000090</td>\n",
       "      <td>0.000046</td>\n",
       "      <td>0.000489</td>\n",
       "      <td>0.000039</td>\n",
       "    </tr>\n",
       "    <tr>\n",
       "      <th>9998</th>\n",
       "      <td>1.714986e+06</td>\n",
       "      <td>21232.323230</td>\n",
       "      <td>0.000087</td>\n",
       "      <td>0.000048</td>\n",
       "      <td>0.000485</td>\n",
       "      <td>0.000037</td>\n",
       "    </tr>\n",
       "    <tr>\n",
       "      <th>9999</th>\n",
       "      <td>1.937849e+06</td>\n",
       "      <td>15571.557160</td>\n",
       "      <td>0.000087</td>\n",
       "      <td>0.000049</td>\n",
       "      <td>0.000482</td>\n",
       "      <td>0.000035</td>\n",
       "    </tr>\n",
       "  </tbody>\n",
       "</table>\n",
       "<p>10000 rows × 6 columns</p>\n",
       "</div>"
      ],
      "text/plain": [
       "           R1_data       R2_data   W1_data   L1_data   W2_data   L2_data\n",
       "0     5.747525e+05  12544.854490  0.000098  0.000076  0.000494  0.000035\n",
       "1     1.855941e+06   7804.580458  0.000080  0.000069  0.000492  0.000035\n",
       "2     1.055941e+06  13348.334830  0.000094  0.000042  0.000491  0.000040\n",
       "3     1.616157e+06  20343.034300  0.000092  0.000067  0.000481  0.000036\n",
       "4     9.382088e+05  31791.979200  0.000087  0.000071  0.000485  0.000036\n",
       "...            ...           ...       ...       ...       ...       ...\n",
       "9995  7.599910e+05  26895.689570  0.000096  0.000076  0.000495  0.000031\n",
       "9996  1.978893e+06  14908.490850  0.000090  0.000058  0.000486  0.000035\n",
       "9997  1.751350e+06  28643.064310  0.000090  0.000046  0.000489  0.000039\n",
       "9998  1.714986e+06  21232.323230  0.000087  0.000048  0.000485  0.000037\n",
       "9999  1.937849e+06  15571.557160  0.000087  0.000049  0.000482  0.000035\n",
       "\n",
       "[10000 rows x 6 columns]"
      ]
     },
     "execution_count": 13,
     "metadata": {},
     "output_type": "execute_result"
    }
   ],
   "source": [
    "data = pandas.read_csv('../result/ptanh_constarints.csv')\n",
    "data"
   ]
  },
  {
   "cell_type": "code",
   "execution_count": 14,
   "metadata": {
    "scrolled": true
   },
   "outputs": [
    {
     "data": {
      "text/plain": [
       "(10000, 6)"
      ]
     },
     "execution_count": 14,
     "metadata": {},
     "output_type": "execute_result"
    }
   ],
   "source": [
    "a = data.to_numpy()\n",
    "a.shape"
   ]
  },
  {
   "cell_type": "code",
   "execution_count": 15,
   "metadata": {},
   "outputs": [
    {
     "data": {
      "text/plain": [
       "array([2.05e+06, 3.20e+04, 1.00e-04, 8.00e-05, 5.02e-04, 4.00e-05])"
      ]
     },
     "execution_count": 15,
     "metadata": {},
     "output_type": "execute_result"
    }
   ],
   "source": [
    "np.max(a, axis=0)"
   ]
  },
  {
   "cell_type": "code",
   "execution_count": 16,
   "metadata": {},
   "outputs": [
    {
     "data": {
      "text/plain": [
       "array([2.5e+05, 6.0e+03, 8.0e-05, 4.0e-05, 4.8e-04, 3.0e-05])"
      ]
     },
     "execution_count": 16,
     "metadata": {},
     "output_type": "execute_result"
    }
   ],
   "source": [
    "np.min(a, axis=0)"
   ]
  },
  {
   "cell_type": "code",
   "execution_count": 17,
   "metadata": {},
   "outputs": [],
   "source": [
    "np.savetxt('./data/act_RT.csv', a, fmt='%f', delimiter=',')"
   ]
  },
  {
   "cell_type": "code",
   "execution_count": null,
   "metadata": {},
   "outputs": [],
   "source": []
  }
 ],
 "metadata": {
  "kernelspec": {
   "display_name": "ML",
   "language": "python",
   "name": "ml"
  },
  "language_info": {
   "codemirror_mode": {
    "name": "ipython",
    "version": 3
   },
   "file_extension": ".py",
   "mimetype": "text/x-python",
   "name": "python",
   "nbconvert_exporter": "python",
   "pygments_lexer": "ipython3",
   "version": "3.8.13"
  },
  "toc": {
   "base_numbering": 1,
   "nav_menu": {},
   "number_sections": true,
   "sideBar": true,
   "skip_h1_title": false,
   "title_cell": "Table of Contents",
   "title_sidebar": "Contents",
   "toc_cell": false,
   "toc_position": {},
   "toc_section_display": true,
   "toc_window_display": false
  }
 },
 "nbformat": 4,
 "nbformat_minor": 4
}
