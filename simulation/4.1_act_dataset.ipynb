{
 "cells": [
  {
   "cell_type": "code",
   "execution_count": 1,
   "metadata": {},
   "outputs": [],
   "source": [
    "import os\n",
    "import math\n",
    "import torch\n",
    "import random\n",
    "import pickle\n",
    "import pandas\n",
    "import calendar\n",
    "import numpy as np\n",
    "import matplotlib.pyplot as plt\n",
    "from torch.utils.data import TensorDataset, DataLoader\n",
    "os.environ['KMP_DUPLICATE_LIB_OK']='True'\n",
    "torch.set_default_tensor_type(torch.FloatTensor)\n",
    "import config"
   ]
  },
  {
   "cell_type": "markdown",
   "metadata": {},
   "source": [
    "# Read and process data"
   ]
  },
  {
   "cell_type": "code",
   "execution_count": 2,
   "metadata": {},
   "outputs": [
    {
     "data": {
      "text/html": [
       "<div>\n",
       "<style scoped>\n",
       "    .dataframe tbody tr th:only-of-type {\n",
       "        vertical-align: middle;\n",
       "    }\n",
       "\n",
       "    .dataframe tbody tr th {\n",
       "        vertical-align: top;\n",
       "    }\n",
       "\n",
       "    .dataframe thead th {\n",
       "        text-align: right;\n",
       "    }\n",
       "</style>\n",
       "<table border=\"1\" class=\"dataframe\">\n",
       "  <thead>\n",
       "    <tr style=\"text-align: right;\">\n",
       "      <th></th>\n",
       "      <th>0</th>\n",
       "      <th>1</th>\n",
       "      <th>2</th>\n",
       "      <th>3</th>\n",
       "      <th>4</th>\n",
       "      <th>5</th>\n",
       "      <th>6</th>\n",
       "      <th>7</th>\n",
       "      <th>8</th>\n",
       "    </tr>\n",
       "  </thead>\n",
       "  <tbody>\n",
       "    <tr>\n",
       "      <th>0</th>\n",
       "      <td>5.747525e+05</td>\n",
       "      <td>12544.854490</td>\n",
       "      <td>0.000098</td>\n",
       "      <td>0.000076</td>\n",
       "      <td>0.000494</td>\n",
       "      <td>0.000035</td>\n",
       "      <td>0.021827</td>\n",
       "      <td>0.770558</td>\n",
       "      <td>0.070874</td>\n",
       "    </tr>\n",
       "    <tr>\n",
       "      <th>1</th>\n",
       "      <td>1.855941e+06</td>\n",
       "      <td>7804.580458</td>\n",
       "      <td>0.000080</td>\n",
       "      <td>0.000069</td>\n",
       "      <td>0.000492</td>\n",
       "      <td>0.000035</td>\n",
       "      <td>0.004205</td>\n",
       "      <td>0.864428</td>\n",
       "      <td>0.070792</td>\n",
       "    </tr>\n",
       "    <tr>\n",
       "      <th>2</th>\n",
       "      <td>1.055941e+06</td>\n",
       "      <td>13348.334830</td>\n",
       "      <td>0.000094</td>\n",
       "      <td>0.000042</td>\n",
       "      <td>0.000491</td>\n",
       "      <td>0.000040</td>\n",
       "      <td>0.012641</td>\n",
       "      <td>0.445271</td>\n",
       "      <td>0.080725</td>\n",
       "    </tr>\n",
       "    <tr>\n",
       "      <th>3</th>\n",
       "      <td>1.616157e+06</td>\n",
       "      <td>20343.034300</td>\n",
       "      <td>0.000092</td>\n",
       "      <td>0.000067</td>\n",
       "      <td>0.000481</td>\n",
       "      <td>0.000036</td>\n",
       "      <td>0.012587</td>\n",
       "      <td>0.732824</td>\n",
       "      <td>0.075100</td>\n",
       "    </tr>\n",
       "    <tr>\n",
       "      <th>4</th>\n",
       "      <td>9.382088e+05</td>\n",
       "      <td>31791.979200</td>\n",
       "      <td>0.000087</td>\n",
       "      <td>0.000071</td>\n",
       "      <td>0.000485</td>\n",
       "      <td>0.000036</td>\n",
       "      <td>0.033886</td>\n",
       "      <td>0.818391</td>\n",
       "      <td>0.073257</td>\n",
       "    </tr>\n",
       "    <tr>\n",
       "      <th>...</th>\n",
       "      <td>...</td>\n",
       "      <td>...</td>\n",
       "      <td>...</td>\n",
       "      <td>...</td>\n",
       "      <td>...</td>\n",
       "      <td>...</td>\n",
       "      <td>...</td>\n",
       "      <td>...</td>\n",
       "      <td>...</td>\n",
       "    </tr>\n",
       "    <tr>\n",
       "      <th>9995</th>\n",
       "      <td>7.599910e+05</td>\n",
       "      <td>26895.689570</td>\n",
       "      <td>0.000096</td>\n",
       "      <td>0.000076</td>\n",
       "      <td>0.000495</td>\n",
       "      <td>0.000031</td>\n",
       "      <td>0.035389</td>\n",
       "      <td>0.798953</td>\n",
       "      <td>0.062688</td>\n",
       "    </tr>\n",
       "    <tr>\n",
       "      <th>9996</th>\n",
       "      <td>1.978893e+06</td>\n",
       "      <td>14908.490850</td>\n",
       "      <td>0.000090</td>\n",
       "      <td>0.000058</td>\n",
       "      <td>0.000486</td>\n",
       "      <td>0.000035</td>\n",
       "      <td>0.007534</td>\n",
       "      <td>0.644370</td>\n",
       "      <td>0.072477</td>\n",
       "    </tr>\n",
       "    <tr>\n",
       "      <th>9997</th>\n",
       "      <td>1.751350e+06</td>\n",
       "      <td>28643.064310</td>\n",
       "      <td>0.000090</td>\n",
       "      <td>0.000046</td>\n",
       "      <td>0.000489</td>\n",
       "      <td>0.000039</td>\n",
       "      <td>0.016355</td>\n",
       "      <td>0.503876</td>\n",
       "      <td>0.079677</td>\n",
       "    </tr>\n",
       "    <tr>\n",
       "      <th>9998</th>\n",
       "      <td>1.714986e+06</td>\n",
       "      <td>21232.323230</td>\n",
       "      <td>0.000087</td>\n",
       "      <td>0.000048</td>\n",
       "      <td>0.000485</td>\n",
       "      <td>0.000037</td>\n",
       "      <td>0.012380</td>\n",
       "      <td>0.555556</td>\n",
       "      <td>0.075883</td>\n",
       "    </tr>\n",
       "    <tr>\n",
       "      <th>9999</th>\n",
       "      <td>1.937849e+06</td>\n",
       "      <td>15571.557160</td>\n",
       "      <td>0.000087</td>\n",
       "      <td>0.000049</td>\n",
       "      <td>0.000482</td>\n",
       "      <td>0.000035</td>\n",
       "      <td>0.008035</td>\n",
       "      <td>0.558621</td>\n",
       "      <td>0.073191</td>\n",
       "    </tr>\n",
       "  </tbody>\n",
       "</table>\n",
       "<p>10000 rows × 9 columns</p>\n",
       "</div>"
      ],
      "text/plain": [
       "                 0             1         2         3         4         5  \\\n",
       "0     5.747525e+05  12544.854490  0.000098  0.000076  0.000494  0.000035   \n",
       "1     1.855941e+06   7804.580458  0.000080  0.000069  0.000492  0.000035   \n",
       "2     1.055941e+06  13348.334830  0.000094  0.000042  0.000491  0.000040   \n",
       "3     1.616157e+06  20343.034300  0.000092  0.000067  0.000481  0.000036   \n",
       "4     9.382088e+05  31791.979200  0.000087  0.000071  0.000485  0.000036   \n",
       "...            ...           ...       ...       ...       ...       ...   \n",
       "9995  7.599910e+05  26895.689570  0.000096  0.000076  0.000495  0.000031   \n",
       "9996  1.978893e+06  14908.490850  0.000090  0.000058  0.000486  0.000035   \n",
       "9997  1.751350e+06  28643.064310  0.000090  0.000046  0.000489  0.000039   \n",
       "9998  1.714986e+06  21232.323230  0.000087  0.000048  0.000485  0.000037   \n",
       "9999  1.937849e+06  15571.557160  0.000087  0.000049  0.000482  0.000035   \n",
       "\n",
       "             6         7         8  \n",
       "0     0.021827  0.770558  0.070874  \n",
       "1     0.004205  0.864428  0.070792  \n",
       "2     0.012641  0.445271  0.080725  \n",
       "3     0.012587  0.732824  0.075100  \n",
       "4     0.033886  0.818391  0.073257  \n",
       "...        ...       ...       ...  \n",
       "9995  0.035389  0.798953  0.062688  \n",
       "9996  0.007534  0.644370  0.072477  \n",
       "9997  0.016355  0.503876  0.079677  \n",
       "9998  0.012380  0.555556  0.075883  \n",
       "9999  0.008035  0.558621  0.073191  \n",
       "\n",
       "[10000 rows x 9 columns]"
      ]
     },
     "execution_count": 2,
     "metadata": {},
     "output_type": "execute_result"
    }
   ],
   "source": [
    "x = pandas.read_csv(\"./data/act_RT_ratio.csv\", header=None)\n",
    "x"
   ]
  },
  {
   "cell_type": "code",
   "execution_count": 3,
   "metadata": {},
   "outputs": [
    {
     "data": {
      "text/plain": [
       "torch.Size([10000, 6])"
      ]
     },
     "execution_count": 3,
     "metadata": {},
     "output_type": "execute_result"
    }
   ],
   "source": [
    "X = []\n",
    "for i in range(10000):\n",
    "    \n",
    "    f1 = x.iloc[i, :6]\n",
    "    F = [float(f) for f in f1.to_numpy()]\n",
    "    X.append(F)\n",
    "X = torch.tensor(X)\n",
    "X.shape"
   ]
  },
  {
   "cell_type": "code",
   "execution_count": 4,
   "metadata": {},
   "outputs": [],
   "source": [
    "X_max = torch.max(X, dim=0)[0]\n",
    "X_min = torch.min(X, dim=0)[0]"
   ]
  },
  {
   "cell_type": "code",
   "execution_count": 5,
   "metadata": {},
   "outputs": [
    {
     "data": {
      "text/plain": [
       "tensor([2.0500e+06, 3.2000e+04, 1.0000e-04, 8.0000e-05, 5.0200e-04, 4.0000e-05])"
      ]
     },
     "execution_count": 5,
     "metadata": {},
     "output_type": "execute_result"
    }
   ],
   "source": [
    "X_max"
   ]
  },
  {
   "cell_type": "code",
   "execution_count": 6,
   "metadata": {},
   "outputs": [
    {
     "data": {
      "text/plain": [
       "tensor([2.5000e+05, 6.0000e+03, 8.0000e-05, 4.0000e-05, 4.8000e-04, 3.0000e-05])"
      ]
     },
     "execution_count": 6,
     "metadata": {},
     "output_type": "execute_result"
    }
   ],
   "source": [
    "X_min"
   ]
  },
  {
   "cell_type": "code",
   "execution_count": 7,
   "metadata": {},
   "outputs": [
    {
     "data": {
      "text/plain": [
       "tensor([[0.1804, 0.2517, 0.9000, 0.9000, 0.6364, 0.5000],\n",
       "        [0.8922, 0.0694, 0.0000, 0.7250, 0.5455, 0.5000],\n",
       "        [0.4477, 0.2826, 0.7000, 0.0500, 0.5000, 1.0000],\n",
       "        ...,\n",
       "        [0.8341, 0.8709, 0.5000, 0.1500, 0.4091, 0.9000],\n",
       "        [0.8139, 0.5859, 0.3500, 0.2000, 0.2273, 0.7000],\n",
       "        [0.9377, 0.3681, 0.3500, 0.2250, 0.0909, 0.5000]])"
      ]
     },
     "execution_count": 7,
     "metadata": {},
     "output_type": "execute_result"
    }
   ],
   "source": [
    "Xn = config.Normalization(X, X_min, X_max)\n",
    "Xn"
   ]
  },
  {
   "cell_type": "code",
   "execution_count": 8,
   "metadata": {},
   "outputs": [
    {
     "data": {
      "text/plain": [
       "(tensor(1.), tensor(0.))"
      ]
     },
     "execution_count": 8,
     "metadata": {},
     "output_type": "execute_result"
    }
   ],
   "source": [
    "Xn.max(), Xn.min()"
   ]
  },
  {
   "cell_type": "code",
   "execution_count": 9,
   "metadata": {},
   "outputs": [
    {
     "data": {
      "text/plain": [
       "(10000, 5)"
      ]
     },
     "execution_count": 9,
     "metadata": {},
     "output_type": "execute_result"
    }
   ],
   "source": [
    "y = pandas.read_csv(\"./data/act_eta.csv\", header=None)\n",
    "y.shape"
   ]
  },
  {
   "cell_type": "code",
   "execution_count": 10,
   "metadata": {},
   "outputs": [
    {
     "data": {
      "text/plain": [
       "torch.Size([10000, 5])"
      ]
     },
     "execution_count": 10,
     "metadata": {},
     "output_type": "execute_result"
    }
   ],
   "source": [
    "Y = []\n",
    "for i in range(10000):\n",
    "    \n",
    "    f1 = y.iloc[i, :]\n",
    "    F = [float(f) for f in f1.to_numpy()]\n",
    "    Y.append(F)\n",
    "Y = torch.tensor(Y)\n",
    "Y.shape"
   ]
  },
  {
   "cell_type": "code",
   "execution_count": 11,
   "metadata": {},
   "outputs": [
    {
     "data": {
      "text/plain": [
       "tensor([   2,    6,    8,  ..., 9991, 9995, 9997])"
      ]
     },
     "execution_count": 11,
     "metadata": {},
     "output_type": "execute_result"
    }
   ],
   "source": [
    "useful = torch.where(Y[:,-1]<0.1)[0]\n",
    "useful"
   ]
  },
  {
   "cell_type": "code",
   "execution_count": 12,
   "metadata": {},
   "outputs": [
    {
     "data": {
      "text/plain": [
       "(torch.Size([3777, 6]), torch.Size([3777, 6]))"
      ]
     },
     "execution_count": 12,
     "metadata": {},
     "output_type": "execute_result"
    }
   ],
   "source": [
    "Xn = Xn[useful,:]\n",
    "X  = X[useful,:]\n",
    "Xn.shape, X.shape"
   ]
  },
  {
   "cell_type": "code",
   "execution_count": 13,
   "metadata": {},
   "outputs": [
    {
     "data": {
      "text/plain": [
       "torch.Size([3777, 4])"
      ]
     },
     "execution_count": 13,
     "metadata": {},
     "output_type": "execute_result"
    }
   ],
   "source": [
    "Y = Y[useful,:-1]\n",
    "Y.shape"
   ]
  },
  {
   "cell_type": "code",
   "execution_count": 14,
   "metadata": {},
   "outputs": [],
   "source": [
    "Y_max = torch.max(Y, dim=0)[0]\n",
    "Y_min = torch.min(Y, dim=0)[0]"
   ]
  },
  {
   "cell_type": "code",
   "execution_count": 15,
   "metadata": {},
   "outputs": [],
   "source": [
    "Yn = config.Normalization(Y, Y_min, Y_max)"
   ]
  },
  {
   "cell_type": "code",
   "execution_count": 16,
   "metadata": {},
   "outputs": [
    {
     "data": {
      "text/plain": [
       "(tensor(1.), tensor(0.))"
      ]
     },
     "execution_count": 16,
     "metadata": {},
     "output_type": "execute_result"
    }
   ],
   "source": [
    "Yn.max(), Yn.min()"
   ]
  },
  {
   "cell_type": "markdown",
   "metadata": {},
   "source": [
    "# Make dataset"
   ]
  },
  {
   "cell_type": "code",
   "execution_count": 17,
   "metadata": {},
   "outputs": [],
   "source": [
    "E_train = int(X.shape[0]*0.7)\n",
    "E_valid = int(X.shape[0]*0.2)\n",
    "E_test  = int(X.shape[0] - E_train - E_valid)\n",
    "\n",
    "config.SetSeed()\n",
    "index = torch.randperm(X.shape[0])\n",
    "index_learn = index[:E_train+E_valid]\n",
    "index_train = index[:E_train]\n",
    "index_valid = index[E_train:E_train+E_valid]\n",
    "index_test  = index[-E_test:]\n",
    "\n",
    "X_learn, Y_learn = X[index_learn,:], Y[index_learn,:]\n",
    "X_train, Y_train = X[index_train,:], Y[index_train,:]\n",
    "X_valid, Y_valid = X[index_valid,:], Y[index_valid,:]\n",
    "X_test,  Y_test  = X[index_test,:] , Y[index_test,:]\n",
    "\n",
    "Xn_learn, Yn_learn = Xn[index_learn,:], Yn[index_learn,:]\n",
    "Xn_train, Yn_train = Xn[index_train,:], Yn[index_train,:]\n",
    "Xn_valid, Yn_valid = Xn[index_valid,:], Yn[index_valid,:]\n",
    "Xn_test,  Yn_test  = Xn[index_test,:] , Yn[index_test,:]"
   ]
  },
  {
   "cell_type": "code",
   "execution_count": 18,
   "metadata": {},
   "outputs": [],
   "source": [
    "a = {'Xn': Xn, 'Yn': Yn, \n",
    "     'X': X,   'Y': Y, \n",
    "     \n",
    "     'Xn_learn': Xn_learn, 'Yn_learn': Yn_learn, \n",
    "     'Xn_train': Xn_train, 'Yn_train': Yn_train, \n",
    "     'Xn_valid': Xn_valid, 'Yn_valid': Yn_valid, \n",
    "     'Xn_test' : Xn_test,  'Yn_test' : Yn_test,\n",
    "     \n",
    "     'X_learn': X_learn, 'Y_learn': Y_learn, \n",
    "     'X_train': X_train, 'Y_train': Y_train, \n",
    "     'X_valid': X_valid, 'Y_valid': Y_valid, \n",
    "     'X_test' : X_test,  'Y_test' : Y_test,\n",
    "     \n",
    "     'X_max':X_max, 'X_min':X_min,\n",
    "     'Y_max':Y_max, 'Y_min':Y_min,}\n",
    "\n",
    "with open('./data/act_dataset_without_ratio.p', 'wb') as file:\n",
    "    pickle.dump(a, file)\n",
    "with open('../../LNC/dataset/act_dataset_without_ratio.p', 'wb') as file:\n",
    "    pickle.dump(a, file)"
   ]
  },
  {
   "cell_type": "code",
   "execution_count": null,
   "metadata": {},
   "outputs": [],
   "source": []
  }
 ],
 "metadata": {
  "kernelspec": {
   "display_name": "ML",
   "language": "python",
   "name": "ml"
  },
  "language_info": {
   "codemirror_mode": {
    "name": "ipython",
    "version": 3
   },
   "file_extension": ".py",
   "mimetype": "text/x-python",
   "name": "python",
   "nbconvert_exporter": "python",
   "pygments_lexer": "ipython3",
   "version": "3.8.13"
  },
  "toc": {
   "base_numbering": 1,
   "nav_menu": {},
   "number_sections": true,
   "sideBar": true,
   "skip_h1_title": false,
   "title_cell": "Table of Contents",
   "title_sidebar": "Contents",
   "toc_cell": false,
   "toc_position": {},
   "toc_section_display": true,
   "toc_window_display": false
  }
 },
 "nbformat": 4,
 "nbformat_minor": 4
}
