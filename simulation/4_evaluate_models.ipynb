{
 "cells": [
  {
   "cell_type": "code",
   "execution_count": 34,
   "metadata": {
    "tags": []
   },
   "outputs": [],
   "source": [
    "import torch\n",
    "import sys\n",
    "import torch\n",
    "from torch.utils.data import TensorDataset\n",
    "from torch.utils.data import DataLoader\n",
    "import numpy as np\n",
    "import training\n",
    "import config\n",
    "import matplotlib.pyplot as plt\n",
    "import os"
   ]
  },
  {
   "cell_type": "code",
   "execution_count": 15,
   "metadata": {
    "tags": []
   },
   "outputs": [
    {
     "name": "stdout",
     "output_type": "stream",
     "text": [
      "torch.Size([10, 4, 5, 2])\n"
     ]
    }
   ],
   "source": [
    "results_all = []\n",
    "for model_idx in range(4):\n",
    "\n",
    "    results = []\n",
    "    for seed in range(10):\n",
    "        re_temp = torch.load(f'./data/SG_results_{seed}_{model_idx}.matrix')\n",
    "        results.append(re_temp)\n",
    "    results = torch.stack(results)\n",
    "    \n",
    "    results_all.append(results)\n",
    "results_all = torch.stack(results_all).permute(1,0,2,3)\n",
    "\n",
    "results_all\n",
    "print(results_all.shape)"
   ]
  },
  {
   "cell_type": "code",
   "execution_count": 17,
   "metadata": {
    "tags": []
   },
   "outputs": [
    {
     "data": {
      "text/plain": [
       "torch.Size([4, 5, 2])"
      ]
     },
     "execution_count": 17,
     "metadata": {},
     "output_type": "execute_result"
    }
   ],
   "source": [
    "results_mean_seed = torch.tensor(np.nanmean(results_all.detach().numpy(), axis=0)) # [model, lr, valid/test]\n",
    "results_mean_seed.shape"
   ]
  },
  {
   "cell_type": "code",
   "execution_count": 24,
   "metadata": {
    "tags": []
   },
   "outputs": [
    {
     "data": {
      "text/plain": [
       "torch.Size([4, 5, 2])"
      ]
     },
     "execution_count": 24,
     "metadata": {},
     "output_type": "execute_result"
    }
   ],
   "source": [
    "re = torch.min(results_all, dim=0)[0]\n",
    "re.shape"
   ]
  },
  {
   "cell_type": "code",
   "execution_count": 25,
   "metadata": {
    "tags": []
   },
   "outputs": [
    {
     "data": {
      "text/plain": [
       "tensor([[0.0004, 0.0002, 0.0003, 0.0006, 0.0011],\n",
       "        [0.0072, 0.0002, 0.0002, 0.0003, 0.0004],\n",
       "        [0.0117, 0.0003, 0.0001, 0.0002, 0.0003],\n",
       "        [0.0158, 0.0002, 0.0002, 0.0002, 0.0002]])"
      ]
     },
     "execution_count": 25,
     "metadata": {},
     "output_type": "execute_result"
    }
   ],
   "source": [
    "re[:,:,0]"
   ]
  },
  {
   "cell_type": "code",
   "execution_count": 28,
   "metadata": {
    "tags": []
   },
   "outputs": [
    {
     "data": {
      "text/plain": [
       "tensor([[2.8877e-04, 1.6335e-04, 2.2238e-04, 3.6757e-04, 7.5891e-04],\n",
       "        [5.9935e-03, 1.5501e-04, 1.2907e-04, 1.7465e-04, 2.6438e-04],\n",
       "        [1.0005e-02, 1.8885e-04, 8.8399e-05, 1.2209e-04, 2.3763e-04],\n",
       "        [1.4080e-02, 1.3621e-04, 1.3986e-04, 1.1737e-04, 1.4413e-04]])"
      ]
     },
     "execution_count": 28,
     "metadata": {},
     "output_type": "execute_result"
    }
   ],
   "source": [
    "re[:,:,1]"
   ]
  },
  {
   "cell_type": "code",
   "execution_count": 29,
   "metadata": {
    "tags": []
   },
   "outputs": [
    {
     "data": {
      "text/plain": [
       "tensor([1.2501e-04, 2.9641e-04, 1.2081e-04, 1.8410e-04, 1.9595e-04, 1.6885e-04,\n",
       "        1.3583e-04, 8.8399e-05, 9.2381e-05, 1.1652e-04])"
      ]
     },
     "execution_count": 29,
     "metadata": {},
     "output_type": "execute_result"
    }
   ],
   "source": [
    "results_all[:,2,2,1]"
   ]
  },
  {
   "cell_type": "code",
   "execution_count": 35,
   "metadata": {
    "tags": []
   },
   "outputs": [],
   "source": [
    "data = torch.load(f'./data/dataset.ds')\n",
    "X_valid = data['X_valid']\n",
    "Y_valid = data['Y_valid']\n",
    "X_test  = data['X_test']\n",
    "Y_test  = data['Y_test']\n",
    "valid_data = TensorDataset(X_valid, Y_valid)\n",
    "test_data  = TensorDataset(X_test, Y_test)\n",
    "valid_loader = DataLoader(valid_data, batch_size=32)\n",
    "test_loader  = DataLoader(test_data, batch_size=32)"
   ]
  },
  {
   "cell_type": "code",
   "execution_count": 38,
   "metadata": {
    "tags": []
   },
   "outputs": [
    {
     "name": "stdout",
     "output_type": "stream",
     "text": [
      "0.00013096270156286969 8.839867858720633e-05\n"
     ]
    }
   ],
   "source": [
    "models = ['gpt-nano', 'gpt-micro', 'gpt-mini', 'gopher-44m', 'gpt2']\n",
    "\n",
    "modelname = f'predictor_{models[2]}_lr_{-4}_seed_{7}'\n",
    "model = torch.load(f'./NNs/{modelname}',map_location=torch.device('cpu'))\n",
    "\n",
    "loss_fn = torch.nn.MSELoss(reduction='mean')\n",
    "\n",
    "total_loss = 0.0\n",
    "total_samples = 0\n",
    "for x_valid, y_valid in valid_loader:\n",
    "    prediction_valid = model(x_valid)\n",
    "    L_valid = loss_fn(prediction_valid, y_valid)\n",
    "    total_loss += L_valid.item() * x_valid.size(0)\n",
    "    total_samples += x_valid.size(0)\n",
    "weighted_mean_loss_valid = total_loss / total_samples\n",
    "\n",
    "total_loss = 0.0\n",
    "total_samples = 0\n",
    "for x_test, y_test in test_loader:\n",
    "    prediction_test = model(x_test)\n",
    "    L_test = loss_fn(prediction_test, y_test)\n",
    "    total_loss += L_test.item() * x_test.size(0)\n",
    "    total_samples += x_test.size(0)\n",
    "weighted_mean_loss_test = total_loss / total_samples\n",
    "\n",
    "\n",
    "print(weighted_mean_loss_valid, weighted_mean_loss_test)"
   ]
  },
  {
   "cell_type": "code",
   "execution_count": 42,
   "metadata": {
    "tags": []
   },
   "outputs": [],
   "source": [
    "torch.save(model, f'./NNs/final_SG.model')\n",
    "torch.save(model, f'../utils/final_SG.model')"
   ]
  },
  {
   "cell_type": "code",
   "execution_count": 39,
   "metadata": {
    "tags": []
   },
   "outputs": [],
   "source": [
    "test = torch.randn([1,100,1])"
   ]
  },
  {
   "cell_type": "code",
   "execution_count": 41,
   "metadata": {
    "tags": []
   },
   "outputs": [
    {
     "data": {
      "text/plain": [
       "tensor([0.1029, 0.1029, 0.1027, 0.1031, 0.1033, 0.1027, 0.1004, 0.1096, 0.1035,\n",
       "        0.1081, 0.1051, 0.1038, 0.1035, 0.1064, 0.1033, 0.1059, 0.1047, 0.1050,\n",
       "        0.0988, 0.1048, 0.1051, 0.1113, 0.1043, 0.0966, 0.1386, 0.1131, 0.1050,\n",
       "        0.1045, 0.1137, 0.2691, 0.1594, 0.1202, 0.1011, 0.1044, 0.7218, 0.6571,\n",
       "        0.1410, 0.1654, 0.1285, 0.1072, 0.1075, 0.1060, 0.1065, 0.1025, 0.1062,\n",
       "        0.1066, 0.1029, 0.1055, 0.1052, 0.1011, 0.1002, 0.1038, 0.1056, 0.1041,\n",
       "        0.0902, 0.1032, 0.0990, 0.1034, 0.1003, 0.1059, 0.1066, 0.0999, 0.1057,\n",
       "        0.0991, 0.1031, 0.0942, 0.0975, 0.1043, 0.1042, 0.1006, 0.1132, 0.1053,\n",
       "        0.1068, 0.1025, 0.1068, 0.0953, 0.1048, 0.1060, 0.1121, 0.1175, 0.1017,\n",
       "        0.1239, 0.1748, 0.1759, 0.1689, 0.3815, 0.1138, 0.1028, 0.2237, 0.2780,\n",
       "        0.5996, 0.5484, 0.1388, 0.1270, 0.1159, 0.1114, 0.1082, 0.1092, 0.1109,\n",
       "        0.1018], grad_fn=<SqueezeBackward0>)"
      ]
     },
     "execution_count": 41,
     "metadata": {},
     "output_type": "execute_result"
    }
   ],
   "source": [
    "model(test)"
   ]
  },
  {
   "cell_type": "code",
   "execution_count": null,
   "metadata": {},
   "outputs": [],
   "source": []
  }
 ],
 "metadata": {
  "kernelspec": {
   "display_name": "pNN",
   "language": "python",
   "name": "pnn"
  },
  "language_info": {
   "codemirror_mode": {
    "name": "ipython",
    "version": 3
   },
   "file_extension": ".py",
   "mimetype": "text/x-python",
   "name": "python",
   "nbconvert_exporter": "python",
   "pygments_lexer": "ipython3",
   "version": "3.9.16"
  }
 },
 "nbformat": 4,
 "nbformat_minor": 4
}
