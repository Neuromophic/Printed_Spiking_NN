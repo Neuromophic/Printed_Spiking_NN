{
 "cells": [
  {
   "cell_type": "code",
   "execution_count": 1,
   "metadata": {},
   "outputs": [],
   "source": [
    "import torch\n",
    "import sys\n",
    "import torch\n",
    "from torch.utils.data import TensorDataset\n",
    "from torch.utils.data import DataLoader\n",
    "import numpy as np\n",
    "import training\n",
    "import config\n",
    "import matplotlib.pyplot as plt\n",
    "import os\n",
    "\n",
    "models = ['gpt-nano', 'gpt-micro', 'gpt-mini', 'gopher-44m', 'gpt2']"
   ]
  },
  {
   "cell_type": "code",
   "execution_count": 2,
   "metadata": {},
   "outputs": [
    {
     "name": "stdout",
     "output_type": "stream",
     "text": [
      "tensor(6.2663e-06) tensor(5.4309e-06)\n",
      "tensor(1.3682e-06) tensor(1.1255e-06)\n",
      "tensor(4.5144e-06) tensor(4.6042e-06)\n",
      "tensor(0.0024) tensor(0.0026)\n",
      "tensor(4.6192e-06) tensor(4.1223e-06)\n",
      "tensor(2.3643e-06) tensor(1.8001e-06)\n",
      "tensor(0.0002) tensor(0.0002)\n",
      "tensor(2.3394e-05) tensor(2.2360e-05)\n",
      "tensor(1.7461e-06) tensor(1.4930e-06)\n",
      "tensor(0.0007) tensor(0.0008)\n",
      "tensor(6.0357e-05) tensor(5.8595e-05)\n",
      "tensor(6.9260e-07) tensor(6.1065e-07)\n",
      "tensor(1.7946e-05) tensor(1.8259e-05)\n",
      "tensor(1.7935e-06) tensor(1.5176e-06)\n",
      "tensor(1.3790e-06) tensor(1.1861e-06)\n",
      "tensor(0.0008) tensor(0.0009)\n",
      "tensor(1.2566e-05) tensor(1.1974e-05)\n",
      "tensor(2.5719e-06) tensor(2.2689e-06)\n",
      "tensor(0.0004) tensor(0.0004)\n",
      "tensor(4.9375e-06) tensor(4.1719e-06)\n",
      "tensor(5.9776e-06) tensor(4.9898e-06)\n",
      "tensor(0.0002) tensor(0.0002)\n",
      "tensor(8.5867e-06) tensor(7.8225e-06)\n",
      "tensor(1.6196e-05) tensor(1.4571e-05)\n",
      "tensor(1.1018e-05) tensor(1.0753e-05)\n",
      "tensor(3.8513e-06) tensor(3.5512e-06)\n",
      "tensor(3.4587e-06) tensor(3.0770e-06)\n",
      "tensor(0.0001) tensor(9.6822e-05)\n",
      "tensor(2.9731e-06) tensor(2.4759e-06)\n",
      "tensor(1.2387e-06) tensor(1.0364e-06)\n",
      "tensor(0.0003) tensor(0.0003)\n",
      "tensor(3.0211e-06) tensor(2.2259e-06)\n",
      "tensor(7.9150e-06) tensor(6.5080e-06)\n",
      "tensor(0.0002) tensor(0.0002)\n",
      "tensor(7.4786e-06) tensor(7.2346e-06)\n",
      "tensor(1.3088e-06) tensor(1.2277e-06)\n",
      "tensor(1.0520e-05) tensor(1.0754e-05)\n",
      "tensor(3.0213e-06) tensor(2.6770e-06)\n",
      "tensor(1.1707e-06) tensor(1.1348e-06)\n",
      "tensor(0.0005) tensor(0.0005)\n",
      "tensor(2.7450e-06) tensor(2.4211e-06)\n",
      "tensor(2.0443e-06) tensor(1.7821e-06)\n",
      "tensor(1.1576e-05) tensor(1.1106e-05)\n",
      "tensor(6.2189e-06) tensor(6.3641e-06)\n",
      "tensor(1.4351e-05) tensor(1.1476e-05)\n",
      "tensor(0.0005) tensor(0.0005)\n",
      "tensor(1.0418e-05) tensor(1.0463e-05)\n",
      "tensor(1.2219e-06) tensor(1.1171e-06)\n",
      "tensor(1.8918e-05) tensor(1.8954e-05)\n",
      "tensor(4.8096e-06) tensor(4.5947e-06)\n",
      "tensor(2.0738e-06) tensor(2.0574e-06)\n",
      "tensor(2.9116e-05) tensor(2.8989e-05)\n",
      "tensor(3.4689e-06) tensor(2.7195e-06)\n",
      "tensor(2.6443e-06) tensor(2.0406e-06)\n",
      "tensor(7.7727e-05) tensor(7.0424e-05)\n",
      "tensor(9.2966e-06) tensor(9.4903e-06)\n",
      "tensor(3.1675e-06) tensor(2.5543e-06)\n",
      "tensor(0.0003) tensor(0.0003)\n",
      "tensor(1.1190e-05) tensor(1.0417e-05)\n",
      "tensor(0.0002) tensor(0.0002)\n",
      "tensor(1.0648e-05) tensor(1.0463e-05)\n",
      "tensor(8.3254e-06) tensor(7.1609e-06)\n",
      "tensor(1.3088e-06) tensor(1.1401e-06)\n",
      "tensor(0.0006) tensor(0.0006)\n",
      "tensor(6.8528e-06) tensor(6.1943e-06)\n",
      "tensor(2.1429e-06) tensor(1.7490e-06)\n",
      "tensor(6.5229e-05) tensor(6.4175e-05)\n",
      "tensor(3.9511e-06) tensor(3.1273e-06)\n",
      "tensor(5.6964e-06) tensor(4.8670e-06)\n",
      "tensor(0.0003) tensor(0.0003)\n",
      "tensor(4.8996e-06) tensor(4.6301e-06)\n",
      "tensor(1.7913e-05) tensor(1.6261e-05)\n",
      "tensor(8.4153e-06) tensor(7.0182e-06)\n",
      "tensor(2.4988e-06) tensor(2.0757e-06)\n",
      "tensor(3.5839e-06) tensor(3.4851e-06)\n",
      "tensor(0.0002) tensor(0.0002)\n",
      "tensor(2.7205e-06) tensor(2.6578e-06)\n",
      "tensor(5.4845e-06) tensor(4.9518e-06)\n",
      "tensor(0.0002) tensor(0.0002)\n",
      "tensor(2.5776e-05) tensor(2.4266e-05)\n",
      "tensor(4.5179e-05) tensor(4.8381e-05)\n",
      "tensor(0.0003) tensor(0.0003)\n",
      "tensor(1.5582e-06) tensor(1.2306e-06)\n",
      "tensor(5.4225e-05) tensor(5.2206e-05)\n",
      "tensor(6.8002e-06) tensor(6.2217e-06)\n",
      "tensor(2.4579e-06) tensor(2.3167e-06)\n",
      "tensor(1.0539e-06) tensor(9.7044e-07)\n",
      "tensor(0.0001) tensor(9.9655e-05)\n",
      "tensor(1.8553e-06) tensor(1.7439e-06)\n",
      "tensor(1.1836e-06) tensor(1.1118e-06)\n",
      "tensor(0.0003) tensor(0.0003)\n",
      "tensor(1.1620e-05) tensor(1.0259e-05)\n",
      "tensor(4.0646e-06) tensor(3.5470e-06)\n",
      "tensor(0.0003) tensor(0.0003)\n",
      "tensor(6.2544e-06) tensor(5.5591e-06)\n",
      "tensor(8.3525e-07) tensor(8.1011e-07)\n",
      "tensor(1.6616e-05) tensor(1.6581e-05)\n",
      "tensor(1.0938e-05) tensor(1.0054e-05)\n",
      "tensor(1.3416e-06) tensor(1.2946e-06)\n",
      "tensor(0.0004) tensor(0.0004)\n",
      "tensor(2.9343e-05) tensor(3.0477e-05)\n",
      "tensor(1.1713e-06) tensor(1.0073e-06)\n",
      "tensor(0.0043) tensor(0.0046)\n",
      "tensor(3.1727e-06) tensor(2.7612e-06)\n",
      "tensor(4.0662e-06) tensor(3.6511e-06)\n",
      "tensor(0.0003) tensor(0.0003)\n",
      "tensor(2.8202e-06) tensor(2.2689e-06)\n",
      "tensor(1.0250e-06) tensor(1.0272e-06)\n",
      "tensor(1.8748e-05) tensor(1.6365e-05)\n",
      "tensor(1.0310e-05) tensor(9.5093e-06)\n",
      "tensor(2.1633e-06) tensor(1.7468e-06)\n",
      "tensor(8.7475e-05) tensor(8.6549e-05)\n",
      "tensor(3.6824e-06) tensor(3.2006e-06)\n",
      "tensor(7.2966e-06) tensor(6.8006e-06)\n",
      "tensor(0.0017) tensor(0.0019)\n",
      "tensor(2.6190e-05) tensor(2.3818e-05)\n",
      "tensor(6.8049e-06) tensor(5.8382e-06)\n",
      "tensor(0.0010) tensor(0.0011)\n",
      "tensor(9.5231e-05) tensor(9.7358e-05)\n",
      "tensor(6.5732e-07) tensor(6.5115e-07)\n"
     ]
    }
   ],
   "source": [
    "data = torch.load(f'./data/dataset.ds')\n",
    "X_valid = data['X_valid']\n",
    "Y_valid = data['Y_valid']\n",
    "X_test  = data['X_test']\n",
    "Y_test  = data['Y_test']\n",
    "valid_data = TensorDataset(X_valid, Y_valid)\n",
    "test_data  = TensorDataset(X_test, Y_test)\n",
    "valid_loader = DataLoader(valid_data, batch_size=32)\n",
    "test_loader  = DataLoader(test_data, batch_size=32)\n",
    "\n",
    "results = torch.zeros([10, 4, 3, 2])\n",
    "\n",
    "for seed in range(10):\n",
    "    for model_idx in range(4):\n",
    "        for l, lr in enumerate([-2,-3,-4]):\n",
    "\n",
    "            modelname = f'predictor_{models[model_idx]}_lr_{lr}_seed_{seed}'\n",
    "            if os.path.isfile(f'./NNs/{modelname}'):\n",
    "\n",
    "                model = torch.load(f'./NNs/{modelname}',map_location=torch.device('cpu'))\n",
    "\n",
    "                config.SetSeed(seed)\n",
    "\n",
    "                loss_fn = torch.nn.MSELoss(reduction='mean')\n",
    "\n",
    "                total_loss = 0.0\n",
    "                total_samples = 0\n",
    "                for x_valid, y_valid in valid_loader:\n",
    "                    prediction_valid = model(x_valid)\n",
    "                    L_valid = loss_fn(prediction_valid, y_valid)\n",
    "                    total_loss += L_valid.item() * x_valid.size(0)\n",
    "                    total_samples += x_valid.size(0)\n",
    "                weighted_mean_loss = total_loss / total_samples\n",
    "                results[seed, model_idx, l, 0] = weighted_mean_loss\n",
    "                \n",
    "                total_loss = 0.0\n",
    "                total_samples = 0\n",
    "                for x_test, y_test in test_loader:\n",
    "                    prediction_test = model(x_test)\n",
    "                    L_test = loss_fn(prediction_test, y_test)\n",
    "                    total_loss += L_test.item() * x_test.size(0)\n",
    "                    total_samples += x_test.size(0)\n",
    "                weighted_mean_loss = total_loss / total_samples\n",
    "                results[seed, model_idx, l, 1] = weighted_mean_loss\n",
    "\n",
    "                print(results[seed, model_idx, l, 0], results[seed, model_idx, l, 1])\n",
    "            else:\n",
    "                results[seed, model_idx, l, :] = float('nan')"
   ]
  },
  {
   "cell_type": "code",
   "execution_count": 4,
   "metadata": {},
   "outputs": [
    {
     "data": {
      "text/plain": [
       "torch.Size([4, 3, 2])"
      ]
     },
     "execution_count": 4,
     "metadata": {},
     "output_type": "execute_result"
    }
   ],
   "source": [
    "results_mean_seed = torch.tensor(np.nanmean(results.detach().numpy(), axis=0)) # [model, lr, valid/test]\n",
    "results_mean_seed.shape"
   ]
  },
  {
   "cell_type": "code",
   "execution_count": 5,
   "metadata": {},
   "outputs": [
    {
     "data": {
      "text/plain": [
       "tensor([[2.2048e-06, 2.0696e-06],\n",
       "        [2.8142e-06, 2.4549e-06],\n",
       "        [9.8968e-06, 9.3305e-06],\n",
       "        [2.0879e-05, 2.0558e-05]])"
      ]
     },
     "execution_count": 5,
     "metadata": {},
     "output_type": "execute_result"
    }
   ],
   "source": [
    "# model\n",
    "results_layer = results_mean_seed.reshape(4,-1,2).min(1)[0]\n",
    "results_layer"
   ]
  },
  {
   "cell_type": "code",
   "execution_count": 6,
   "metadata": {},
   "outputs": [
    {
     "data": {
      "text/plain": [
       "tensor([[1.2589e-05, 1.2080e-05],\n",
       "        [4.9374e-06, 4.4583e-06],\n",
       "        [2.2048e-06, 2.0696e-06]])"
      ]
     },
     "execution_count": 6,
     "metadata": {},
     "output_type": "execute_result"
    }
   ],
   "source": [
    "# lr\n",
    "results_layer = results_mean_seed.permute(1,0,2).reshape(3,-1,2).min(1)[0]\n",
    "results_layer"
   ]
  },
  {
   "cell_type": "code",
   "execution_count": 7,
   "metadata": {},
   "outputs": [
    {
     "data": {
      "text/plain": [
       "tensor([[4.5144e-06, 4.6042e-06],\n",
       "        [1.3790e-06, 1.1861e-06],\n",
       "        [3.4587e-06, 3.0770e-06],\n",
       "        [1.1707e-06, 1.1348e-06],\n",
       "        [2.0738e-06, 2.0574e-06],\n",
       "        [1.3088e-06, 1.1401e-06],\n",
       "        [3.5839e-06, 3.4851e-06],\n",
       "        [1.0539e-06, 9.7044e-07],\n",
       "        [1.3416e-06, 1.2946e-06],\n",
       "        [2.1633e-06, 1.7468e-06]])"
      ]
     },
     "execution_count": 7,
     "metadata": {},
     "output_type": "execute_result"
    }
   ],
   "source": [
    "results[:,0,2,:]"
   ]
  },
  {
   "cell_type": "code",
   "execution_count": 8,
   "metadata": {},
   "outputs": [
    {
     "name": "stdout",
     "output_type": "stream",
     "text": [
      "tensor(1.0539e-06) tensor(9.7044e-07)\n"
     ]
    }
   ],
   "source": [
    "modelname = f'predictor_{models[0]}_lr_{-4}_seed_{7}'\n",
    "model = torch.load(f'./NNs/{modelname}',map_location=torch.device('cpu'))\n",
    "\n",
    "config.SetSeed(seed)\n",
    "\n",
    "loss_fn = torch.nn.MSELoss(reduction='mean')\n",
    "\n",
    "total_loss = 0.0\n",
    "total_samples = 0\n",
    "for x_valid, y_valid in valid_loader:\n",
    "    prediction_valid = model(x_valid)\n",
    "    L_valid = loss_fn(prediction_valid, y_valid)\n",
    "    total_loss += L_valid.item() * x_valid.size(0)\n",
    "    total_samples += x_valid.size(0)\n",
    "weighted_mean_loss = total_loss / total_samples\n",
    "results[seed, model_idx, l, 0] = weighted_mean_loss\n",
    "\n",
    "total_loss = 0.0\n",
    "total_samples = 0\n",
    "for x_test, y_test in test_loader:\n",
    "    prediction_test = model(x_test)\n",
    "    L_test = loss_fn(prediction_test, y_test)\n",
    "    total_loss += L_test.item() * x_test.size(0)\n",
    "    total_samples += x_test.size(0)\n",
    "weighted_mean_loss = total_loss / total_samples\n",
    "results[seed, model_idx, l, 1] = weighted_mean_loss\n",
    "\n",
    "print(results[seed, model_idx, l, 0], results[seed, model_idx, l, 1])\n"
   ]
  },
  {
   "cell_type": "code",
   "execution_count": 10,
   "metadata": {},
   "outputs": [],
   "source": [
    "torch.save(model, f'./NNs/final_SG.model')\n",
    "torch.save(model, f'../utils/final_SG.model')"
   ]
  },
  {
   "cell_type": "code",
   "execution_count": null,
   "metadata": {},
   "outputs": [],
   "source": []
  }
 ],
 "metadata": {
  "kernelspec": {
   "display_name": "ML",
   "language": "python",
   "name": "ml"
  },
  "language_info": {
   "codemirror_mode": {
    "name": "ipython",
    "version": 3
   },
   "file_extension": ".py",
   "mimetype": "text/x-python",
   "name": "python",
   "nbconvert_exporter": "python",
   "pygments_lexer": "ipython3",
   "version": "3.8.13"
  },
  "orig_nbformat": 4
 },
 "nbformat": 4,
 "nbformat_minor": 2
}
